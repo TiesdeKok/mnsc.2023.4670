{
 "cells": [
  {
   "cell_type": "markdown",
   "metadata": {},
   "source": [
    "# Preamble"
   ]
  },
  {
   "cell_type": "code",
   "execution_count": 1,
   "metadata": {},
   "outputs": [],
   "source": [
    "%matplotlib inline"
   ]
  },
  {
   "cell_type": "markdown",
   "metadata": {},
   "source": [
    "## Notebook parameters"
   ]
  },
  {
   "cell_type": "code",
   "execution_count": 2,
   "metadata": {},
   "outputs": [],
   "source": [
    "NAME = 'a_4_calculate_calendar_bias'\n",
    "PROJECT = 'covid-empirical'\n",
    "PYTHON_VERSION = '3.9'\n",
    "USER = 'Ties'\n",
    "CONDA_ENVIRONMENT = 'covid-empirical'\n",
    "USE_EXTERNAL_PIPELINE = True"
   ]
  },
  {
   "cell_type": "markdown",
   "metadata": {},
   "source": [
    "## Run preamble script"
   ]
  },
  {
   "cell_type": "code",
   "execution_count": 3,
   "metadata": {},
   "outputs": [
    {
     "name": "stdout",
     "output_type": "stream",
     "text": [
      "----------------------------------------------------------------------------------\n",
      "The following utility functions are loaded and available through `functions.<..>`:\n",
      "----------------------------------------------------------------------------------\n",
      "\n",
      "extract_data_edgar_link, fast_load_json, fast_store_json, flatten_multiindex_column, inDB, recreate_edgar_link\n",
      "\n",
      "----------------------------------------------------------------\n",
      "The following modules and functions are imported by preamble.py:\n",
      "----------------------------------------------------------------\n",
      "\n",
      "copy, delayed, importlib, json, math, np, orjson, os, pd, plt, pqdm_p, pqdm_t, random, re, requests, sys, time, yaml\n"
     ]
    }
   ],
   "source": [
    "%run -i preamble.py "
   ]
  },
  {
   "cell_type": "markdown",
   "metadata": {},
   "source": [
    "## Notebook specific imports"
   ]
  },
  {
   "cell_type": "code",
   "execution_count": 4,
   "metadata": {},
   "outputs": [],
   "source": [
    "import seaborn as sns\n",
    "from scipy.stats import ks_2samp"
   ]
  },
  {
   "cell_type": "code",
   "execution_count": 5,
   "metadata": {},
   "outputs": [],
   "source": [
    "sns.set(rc={\"figure.dpi\":300, 'savefig.dpi':300})\n",
    "custom_params = {\"axes.spines.right\": False, \"axes.spines.top\": False}\n",
    "sns.set_theme(style=\"white\", rc=custom_params)"
   ]
  },
  {
   "cell_type": "markdown",
   "metadata": {},
   "source": [
    "-------\n",
    "# Create bias estimate for every calendar day\n",
    "-------"
   ]
  },
  {
   "cell_type": "markdown",
   "metadata": {},
   "source": [
    "## Create starting dataframe"
   ]
  },
  {
   "cell_type": "code",
   "execution_count": 28,
   "metadata": {},
   "outputs": [],
   "source": [
    "all_date_df = pd.DataFrame(pd.date_range(start='1-1-2015', end='12-31-2022'))\n",
    "all_date_df.columns = ['date']"
   ]
  },
  {
   "cell_type": "code",
   "execution_count": 29,
   "metadata": {},
   "outputs": [],
   "source": [
    "all_date_df['day_of_week'] = all_date_df['date'].dt.day_name()\n",
    "all_date_df['day_of_week_i'] = all_date_df['date'].dt.day_of_week\n",
    "all_date_df['year'] = all_date_df['date'].dt.year\n",
    "all_date_df['quarter'] = all_date_df['date'].dt.quarter\n",
    "all_date_df['month'] = all_date_df['date'].dt.month_name()\n",
    "all_date_df['day'] = all_date_df['date'].dt.day\n",
    "all_date_df['week'] = all_date_df['date'].dt.week"
   ]
  },
  {
   "cell_type": "code",
   "execution_count": 30,
   "metadata": {},
   "outputs": [],
   "source": [
    "tmp_df = pd.DataFrame()\n",
    "\n",
    "for name, df in all_date_df.groupby(['year', 'month']):\n",
    "    df = df.sort_values(['date', 'day_of_week_i'])\n",
    "    df['week_rank'] = df.groupby('day_of_week')['day_of_week_i'].rank(method=\"first\", ascending=True).astype(int)\n",
    "    tmp_df = tmp_df.append(df)\n",
    "    \n",
    "all_date_df = tmp_df"
   ]
  },
  {
   "cell_type": "markdown",
   "metadata": {},
   "source": [
    "### Identify the previous years equivalent day"
   ]
  },
  {
   "cell_type": "code",
   "execution_count": 31,
   "metadata": {},
   "outputs": [],
   "source": [
    "lookup_dict = {}\n",
    "for name, df in all_date_df.groupby(['year', 'month', 'day_of_week']):\n",
    "    key = '_'.join([str(x) for x in name])\n",
    "    lookup_dict[key] = {}\n",
    "    for i, row in df.iterrows():\n",
    "        lookup_dict[key][row['week_rank']] = row.to_dict()"
   ]
  },
  {
   "cell_type": "code",
   "execution_count": 40,
   "metadata": {},
   "outputs": [],
   "source": [
    "all_date_df = all_date_df.sort_values('date')\n",
    "tmp_list = []\n",
    "for i, row in all_date_df.iterrows():\n",
    "    ## Relative to last year\n",
    "    prev_year = row['year'] - 1\n",
    "    lookup_key = f'''{prev_year}_{row['month']}_{row['day_of_week']}'''\n",
    "    \n",
    "    prev_day = np.nan\n",
    "    if lookup_key in lookup_dict.keys():\n",
    "        lookup_list = lookup_dict[lookup_key]\n",
    "        if row['week_rank'] in [1,2,3]:\n",
    "            prev_year_row = lookup_list[row['week_rank']]\n",
    "        elif row['week_rank'] in [4, 5]:\n",
    "            max_week_rank = all_date_df[\n",
    "                (all_date_df['year'] == row['year']) &\n",
    "                (all_date_df['month'] == row['month']) & \n",
    "                (all_date_df['day_of_week'] == row['day_of_week'])\n",
    "            ]['week_rank'].max()\n",
    "            \n",
    "            if row['week_rank'] == 4: \n",
    "                if max_week_rank == 4:\n",
    "                    if 5 in lookup_list.keys():\n",
    "                        prev_year_row = lookup_list[5]\n",
    "                    else:\n",
    "                        prev_year_row = lookup_list[4]\n",
    "                else:\n",
    "                    prev_year_row = lookup_list[4]\n",
    "            if row['week_rank'] == 5: \n",
    "                if 5 in lookup_list.keys():\n",
    "                    prev_year_row = lookup_list[5]\n",
    "                else:\n",
    "                    prev_year_row = lookup_list[4]\n",
    "        else:\n",
    "            raise \"Impossible week_rank\"\n",
    "            \n",
    "        prev_day = prev_year_row['day']\n",
    "    \n",
    "    row['same_day_last_year'] = prev_day\n",
    "    tmp_list.append(row.to_dict())\n",
    "new_df = pd.DataFrame(tmp_list)\n",
    "assert len(new_df.index) == len(all_date_df.index), 'Observations changed?'\n",
    "all_date_df = new_df"
   ]
  },
  {
   "cell_type": "code",
   "execution_count": 42,
   "metadata": {},
   "outputs": [],
   "source": [
    "all_date_df = all_date_df.dropna()"
   ]
  },
  {
   "cell_type": "code",
   "execution_count": 43,
   "metadata": {},
   "outputs": [],
   "source": [
    "all_date_df['same_day_last_year'] = all_date_df['same_day_last_year'].astype(int)"
   ]
  },
  {
   "cell_type": "markdown",
   "metadata": {},
   "source": [
    "### Calculate calendar bias"
   ]
  },
  {
   "cell_type": "code",
   "execution_count": 44,
   "metadata": {},
   "outputs": [],
   "source": [
    "all_date_df['calendar_bias'] = all_date_df['day'] - all_date_df['same_day_last_year']"
   ]
  },
  {
   "cell_type": "markdown",
   "metadata": {},
   "source": [
    "### Quick debug to make sure it worked"
   ]
  },
  {
   "cell_type": "code",
   "execution_count": 48,
   "metadata": {},
   "outputs": [
    {
     "data": {
      "text/plain": [
       "-1    1585\n",
       "-2     540\n",
       " 6     242\n",
       " 5     190\n",
       "Name: calendar_bias, dtype: int64"
      ]
     },
     "execution_count": 48,
     "metadata": {},
     "output_type": "execute_result"
    }
   ],
   "source": [
    "all_date_df['calendar_bias'].value_counts()"
   ]
  },
  {
   "cell_type": "code",
   "execution_count": 45,
   "metadata": {},
   "outputs": [
    {
     "data": {
      "text/html": [
       "<div>\n",
       "<style scoped>\n",
       "    .dataframe tbody tr th:only-of-type {\n",
       "        vertical-align: middle;\n",
       "    }\n",
       "\n",
       "    .dataframe tbody tr th {\n",
       "        vertical-align: top;\n",
       "    }\n",
       "\n",
       "    .dataframe thead th {\n",
       "        text-align: right;\n",
       "    }\n",
       "</style>\n",
       "<table border=\"1\" class=\"dataframe\">\n",
       "  <thead>\n",
       "    <tr style=\"text-align: right;\">\n",
       "      <th></th>\n",
       "      <th>date</th>\n",
       "      <th>day_of_week</th>\n",
       "      <th>day_of_week_i</th>\n",
       "      <th>year</th>\n",
       "      <th>quarter</th>\n",
       "      <th>month</th>\n",
       "      <th>day</th>\n",
       "      <th>week</th>\n",
       "      <th>week_rank</th>\n",
       "      <th>same_day_last_year</th>\n",
       "      <th>calendar_bias</th>\n",
       "    </tr>\n",
       "  </thead>\n",
       "  <tbody>\n",
       "    <tr>\n",
       "      <th>1799</th>\n",
       "      <td>2019-12-05</td>\n",
       "      <td>Thursday</td>\n",
       "      <td>3</td>\n",
       "      <td>2019</td>\n",
       "      <td>4</td>\n",
       "      <td>December</td>\n",
       "      <td>5</td>\n",
       "      <td>49</td>\n",
       "      <td>1</td>\n",
       "      <td>6</td>\n",
       "      <td>-1</td>\n",
       "    </tr>\n",
       "    <tr>\n",
       "      <th>1806</th>\n",
       "      <td>2019-12-12</td>\n",
       "      <td>Thursday</td>\n",
       "      <td>3</td>\n",
       "      <td>2019</td>\n",
       "      <td>4</td>\n",
       "      <td>December</td>\n",
       "      <td>12</td>\n",
       "      <td>50</td>\n",
       "      <td>2</td>\n",
       "      <td>13</td>\n",
       "      <td>-1</td>\n",
       "    </tr>\n",
       "    <tr>\n",
       "      <th>1813</th>\n",
       "      <td>2019-12-19</td>\n",
       "      <td>Thursday</td>\n",
       "      <td>3</td>\n",
       "      <td>2019</td>\n",
       "      <td>4</td>\n",
       "      <td>December</td>\n",
       "      <td>19</td>\n",
       "      <td>51</td>\n",
       "      <td>3</td>\n",
       "      <td>20</td>\n",
       "      <td>-1</td>\n",
       "    </tr>\n",
       "    <tr>\n",
       "      <th>1820</th>\n",
       "      <td>2019-12-26</td>\n",
       "      <td>Thursday</td>\n",
       "      <td>3</td>\n",
       "      <td>2019</td>\n",
       "      <td>4</td>\n",
       "      <td>December</td>\n",
       "      <td>26</td>\n",
       "      <td>52</td>\n",
       "      <td>4</td>\n",
       "      <td>27</td>\n",
       "      <td>-1</td>\n",
       "    </tr>\n",
       "    <tr>\n",
       "      <th>2163</th>\n",
       "      <td>2020-12-03</td>\n",
       "      <td>Thursday</td>\n",
       "      <td>3</td>\n",
       "      <td>2020</td>\n",
       "      <td>4</td>\n",
       "      <td>December</td>\n",
       "      <td>3</td>\n",
       "      <td>49</td>\n",
       "      <td>1</td>\n",
       "      <td>5</td>\n",
       "      <td>-2</td>\n",
       "    </tr>\n",
       "    <tr>\n",
       "      <th>2170</th>\n",
       "      <td>2020-12-10</td>\n",
       "      <td>Thursday</td>\n",
       "      <td>3</td>\n",
       "      <td>2020</td>\n",
       "      <td>4</td>\n",
       "      <td>December</td>\n",
       "      <td>10</td>\n",
       "      <td>50</td>\n",
       "      <td>2</td>\n",
       "      <td>12</td>\n",
       "      <td>-2</td>\n",
       "    </tr>\n",
       "    <tr>\n",
       "      <th>2177</th>\n",
       "      <td>2020-12-17</td>\n",
       "      <td>Thursday</td>\n",
       "      <td>3</td>\n",
       "      <td>2020</td>\n",
       "      <td>4</td>\n",
       "      <td>December</td>\n",
       "      <td>17</td>\n",
       "      <td>51</td>\n",
       "      <td>3</td>\n",
       "      <td>19</td>\n",
       "      <td>-2</td>\n",
       "    </tr>\n",
       "    <tr>\n",
       "      <th>2184</th>\n",
       "      <td>2020-12-24</td>\n",
       "      <td>Thursday</td>\n",
       "      <td>3</td>\n",
       "      <td>2020</td>\n",
       "      <td>4</td>\n",
       "      <td>December</td>\n",
       "      <td>24</td>\n",
       "      <td>52</td>\n",
       "      <td>4</td>\n",
       "      <td>26</td>\n",
       "      <td>-2</td>\n",
       "    </tr>\n",
       "    <tr>\n",
       "      <th>2191</th>\n",
       "      <td>2020-12-31</td>\n",
       "      <td>Thursday</td>\n",
       "      <td>3</td>\n",
       "      <td>2020</td>\n",
       "      <td>4</td>\n",
       "      <td>December</td>\n",
       "      <td>31</td>\n",
       "      <td>53</td>\n",
       "      <td>5</td>\n",
       "      <td>26</td>\n",
       "      <td>5</td>\n",
       "    </tr>\n",
       "    <tr>\n",
       "      <th>2527</th>\n",
       "      <td>2021-12-02</td>\n",
       "      <td>Thursday</td>\n",
       "      <td>3</td>\n",
       "      <td>2021</td>\n",
       "      <td>4</td>\n",
       "      <td>December</td>\n",
       "      <td>2</td>\n",
       "      <td>48</td>\n",
       "      <td>1</td>\n",
       "      <td>3</td>\n",
       "      <td>-1</td>\n",
       "    </tr>\n",
       "    <tr>\n",
       "      <th>2534</th>\n",
       "      <td>2021-12-09</td>\n",
       "      <td>Thursday</td>\n",
       "      <td>3</td>\n",
       "      <td>2021</td>\n",
       "      <td>4</td>\n",
       "      <td>December</td>\n",
       "      <td>9</td>\n",
       "      <td>49</td>\n",
       "      <td>2</td>\n",
       "      <td>10</td>\n",
       "      <td>-1</td>\n",
       "    </tr>\n",
       "    <tr>\n",
       "      <th>2541</th>\n",
       "      <td>2021-12-16</td>\n",
       "      <td>Thursday</td>\n",
       "      <td>3</td>\n",
       "      <td>2021</td>\n",
       "      <td>4</td>\n",
       "      <td>December</td>\n",
       "      <td>16</td>\n",
       "      <td>50</td>\n",
       "      <td>3</td>\n",
       "      <td>17</td>\n",
       "      <td>-1</td>\n",
       "    </tr>\n",
       "    <tr>\n",
       "      <th>2548</th>\n",
       "      <td>2021-12-23</td>\n",
       "      <td>Thursday</td>\n",
       "      <td>3</td>\n",
       "      <td>2021</td>\n",
       "      <td>4</td>\n",
       "      <td>December</td>\n",
       "      <td>23</td>\n",
       "      <td>51</td>\n",
       "      <td>4</td>\n",
       "      <td>24</td>\n",
       "      <td>-1</td>\n",
       "    </tr>\n",
       "    <tr>\n",
       "      <th>2555</th>\n",
       "      <td>2021-12-30</td>\n",
       "      <td>Thursday</td>\n",
       "      <td>3</td>\n",
       "      <td>2021</td>\n",
       "      <td>4</td>\n",
       "      <td>December</td>\n",
       "      <td>30</td>\n",
       "      <td>52</td>\n",
       "      <td>5</td>\n",
       "      <td>31</td>\n",
       "      <td>-1</td>\n",
       "    </tr>\n",
       "  </tbody>\n",
       "</table>\n",
       "</div>"
      ],
      "text/plain": [
       "           date day_of_week  day_of_week_i  year  quarter     month  day  \\\n",
       "1799 2019-12-05    Thursday              3  2019        4  December    5   \n",
       "1806 2019-12-12    Thursday              3  2019        4  December   12   \n",
       "1813 2019-12-19    Thursday              3  2019        4  December   19   \n",
       "1820 2019-12-26    Thursday              3  2019        4  December   26   \n",
       "2163 2020-12-03    Thursday              3  2020        4  December    3   \n",
       "2170 2020-12-10    Thursday              3  2020        4  December   10   \n",
       "2177 2020-12-17    Thursday              3  2020        4  December   17   \n",
       "2184 2020-12-24    Thursday              3  2020        4  December   24   \n",
       "2191 2020-12-31    Thursday              3  2020        4  December   31   \n",
       "2527 2021-12-02    Thursday              3  2021        4  December    2   \n",
       "2534 2021-12-09    Thursday              3  2021        4  December    9   \n",
       "2541 2021-12-16    Thursday              3  2021        4  December   16   \n",
       "2548 2021-12-23    Thursday              3  2021        4  December   23   \n",
       "2555 2021-12-30    Thursday              3  2021        4  December   30   \n",
       "\n",
       "      week  week_rank  same_day_last_year  calendar_bias  \n",
       "1799    49          1                   6             -1  \n",
       "1806    50          2                  13             -1  \n",
       "1813    51          3                  20             -1  \n",
       "1820    52          4                  27             -1  \n",
       "2163    49          1                   5             -2  \n",
       "2170    50          2                  12             -2  \n",
       "2177    51          3                  19             -2  \n",
       "2184    52          4                  26             -2  \n",
       "2191    53          5                  26              5  \n",
       "2527    48          1                   3             -1  \n",
       "2534    49          2                  10             -1  \n",
       "2541    50          3                  17             -1  \n",
       "2548    51          4                  24             -1  \n",
       "2555    52          5                  31             -1  "
      ]
     },
     "execution_count": 45,
     "metadata": {},
     "output_type": "execute_result"
    }
   ],
   "source": [
    "all_date_df[(all_date_df.year.isin([2019, 2020, 2021])) & (all_date_df.month == 'December') & (all_date_df.day_of_week == 'Thursday')]"
   ]
  },
  {
   "cell_type": "markdown",
   "metadata": {},
   "source": [
    "### Save bias"
   ]
  },
  {
   "cell_type": "code",
   "execution_count": 46,
   "metadata": {},
   "outputs": [],
   "source": [
    "all_date_df.to_excel(pipeline / 'out' / 'calendar_bias_per_day.xlsx')"
   ]
  },
  {
   "cell_type": "code",
   "execution_count": 47,
   "metadata": {},
   "outputs": [
    {
     "data": {
      "text/html": [
       "<div>\n",
       "<style scoped>\n",
       "    .dataframe tbody tr th:only-of-type {\n",
       "        vertical-align: middle;\n",
       "    }\n",
       "\n",
       "    .dataframe tbody tr th {\n",
       "        vertical-align: top;\n",
       "    }\n",
       "\n",
       "    .dataframe thead th {\n",
       "        text-align: right;\n",
       "    }\n",
       "</style>\n",
       "<table border=\"1\" class=\"dataframe\">\n",
       "  <thead>\n",
       "    <tr style=\"text-align: right;\">\n",
       "      <th></th>\n",
       "      <th>1686</th>\n",
       "      <th>539</th>\n",
       "      <th>1817</th>\n",
       "      <th>1779</th>\n",
       "      <th>801</th>\n",
       "    </tr>\n",
       "  </thead>\n",
       "  <tbody>\n",
       "    <tr>\n",
       "      <th>date</th>\n",
       "      <td>2019-08-14 00:00:00</td>\n",
       "      <td>2016-06-23 00:00:00</td>\n",
       "      <td>2019-12-23 00:00:00</td>\n",
       "      <td>2019-11-15 00:00:00</td>\n",
       "      <td>2017-03-12 00:00:00</td>\n",
       "    </tr>\n",
       "    <tr>\n",
       "      <th>calendar_bias</th>\n",
       "      <td>6</td>\n",
       "      <td>-2</td>\n",
       "      <td>-1</td>\n",
       "      <td>-1</td>\n",
       "      <td>-1</td>\n",
       "    </tr>\n",
       "    <tr>\n",
       "      <th>week_rank</th>\n",
       "      <td>2</td>\n",
       "      <td>4</td>\n",
       "      <td>4</td>\n",
       "      <td>3</td>\n",
       "      <td>2</td>\n",
       "    </tr>\n",
       "  </tbody>\n",
       "</table>\n",
       "</div>"
      ],
      "text/plain": [
       "                              1686                 539                  1817  \\\n",
       "date           2019-08-14 00:00:00  2016-06-23 00:00:00  2019-12-23 00:00:00   \n",
       "calendar_bias                    6                   -2                   -1   \n",
       "week_rank                        2                    4                    4   \n",
       "\n",
       "                              1779                 801   \n",
       "date           2019-11-15 00:00:00  2017-03-12 00:00:00  \n",
       "calendar_bias                   -1                   -1  \n",
       "week_rank                        3                    2  "
      ]
     },
     "execution_count": 47,
     "metadata": {},
     "output_type": "execute_result"
    }
   ],
   "source": [
    "all_date_df[['date', 'calendar_bias', 'week_rank', ]].sample(5).T  "
   ]
  }
 ],
 "metadata": {
  "kernelspec": {
   "display_name": "Python 3 (ipykernel)",
   "language": "python",
   "name": "python3"
  },
  "language_info": {
   "codemirror_mode": {
    "name": "ipython",
    "version": 3
   },
   "file_extension": ".py",
   "mimetype": "text/x-python",
   "name": "python",
   "nbconvert_exporter": "python",
   "pygments_lexer": "ipython3",
   "version": "3.9.6"
  },
  "toc": {
   "colors": {
    "hover_highlight": "#DAA520",
    "running_highlight": "#FF0000",
    "selected_highlight": "#FFD700"
   },
   "moveMenuLeft": true,
   "nav_menu": {
    "height": "138px",
    "width": "252px"
   },
   "navigate_menu": true,
   "number_sections": false,
   "sideBar": true,
   "threshold": 4,
   "toc_cell": false,
   "toc_section_display": "block",
   "toc_window_display": false
  }
 },
 "nbformat": 4,
 "nbformat_minor": 1
}
