{
 "cells": [
  {
   "cell_type": "markdown",
   "metadata": {},
   "source": [
    "# Preamble"
   ]
  },
  {
   "cell_type": "code",
   "execution_count": 1,
   "metadata": {},
   "outputs": [],
   "source": [
    "%matplotlib notebook"
   ]
  },
  {
   "cell_type": "markdown",
   "metadata": {},
   "source": [
    "## Notebook parameters"
   ]
  },
  {
   "cell_type": "code",
   "execution_count": 2,
   "metadata": {},
   "outputs": [],
   "source": [
    "NAME = 'a_5_calculate_auditor_variables'\n",
    "PROJECT = 'covid-empirical'\n",
    "PYTHON_VERSION = '3.9'\n",
    "USER = 'Ties' \n",
    "CONDA_ENVIRONMENT = 'covid-empirical'\n",
    "USE_EXTERNAL_PIPELINE = True"
   ]
  },
  {
   "cell_type": "markdown",
   "metadata": {},
   "source": [
    "## Run preamble script"
   ]
  },
  {
   "cell_type": "code",
   "execution_count": 3,
   "metadata": {},
   "outputs": [
    {
     "name": "stdout",
     "output_type": "stream",
     "text": [
      "----------------------------------------------------------------------------------\n",
      "The following utility functions are loaded and available through `functions.<..>`:\n",
      "----------------------------------------------------------------------------------\n",
      "\n",
      "extract_data_edgar_link, fast_load_json, fast_store_json, flatten_multiindex_column, inDB, recreate_edgar_link\n",
      "\n",
      "----------------------------------------------------------------\n",
      "The following modules and functions are imported by preamble.py:\n",
      "----------------------------------------------------------------\n",
      "\n",
      "copy, delayed, importlib, json, math, np, orjson, os, pd, plt, pqdm_p, pqdm_t, random, re, requests, sys, time, yaml\n"
     ]
    }
   ],
   "source": [
    "%run -i preamble.py "
   ]
  },
  {
   "cell_type": "markdown",
   "metadata": {},
   "source": [
    "## Notebook specific imports"
   ]
  },
  {
   "cell_type": "code",
   "execution_count": 4,
   "metadata": {},
   "outputs": [],
   "source": [
    "from datetime import datetime as dtime\n",
    "import wrds"
   ]
  },
  {
   "cell_type": "markdown",
   "metadata": {},
   "source": [
    "---------------\n",
    "# Retrieve audit analytics data\n",
    "---------------"
   ]
  },
  {
   "cell_type": "code",
   "execution_count": 16,
   "metadata": {},
   "outputs": [],
   "source": [
    "## Setting `LOAD_LOCAL` to True will force load the data from drive.\n",
    "## One has to set this to False when running the code for the first time, after which it will download the data from WRDS\n",
    "LOAD_LOCAL = True \n",
    "\n",
    "current_date = dtime.now().strftime('%m-%d-%Y')\n",
    "wrds_raw_folder = pipeline / 'store' / 'wrds'\n",
    "if not wrds_raw_folder.exists(): os.mkdir(wrds_raw_folder)"
   ]
  },
  {
   "cell_type": "markdown",
   "metadata": {},
   "source": [
    "## Connect to WRDS"
   ]
  },
  {
   "cell_type": "code",
   "execution_count": 17,
   "metadata": {},
   "outputs": [],
   "source": [
    "## To avoid having to input it all the time, and for security, I store my WRDS username as an environment variable\n",
    "\n",
    "if not LOAD_LOCAL:\n",
    "    if 'WRDS_USER' in os.environ:\n",
    "        WRDS_USER = os.environ['WRDS_USER'] \n",
    "    else:\n",
    "        WRDS_USER = input('What is your WRDS username?')\n",
    "\n",
    "    ## Connect with WRDS \n",
    "\n",
    "    db = wrds.Connection(wrds_username = WRDS_USER)\n",
    "\n",
    "    # db.create_pgpass_file() # <-- This will create a pgpass file to save your password locally."
   ]
  },
  {
   "cell_type": "markdown",
   "metadata": {},
   "source": [
    "## Retrieve Audit Opinions data\n",
    "https://wrds-www.wharton.upenn.edu/data-dictionary/audit_audit_comp/\n",
    "\n",
    "The audit opinions dataset contains the audit office city location.\n",
    "\n",
    "https://wrds-www.wharton.upenn.edu/data-dictionary/audit_audit_comp/auditopin/"
   ]
  },
  {
   "cell_type": "markdown",
   "metadata": {},
   "source": [
    "### Columns to retrieve:"
   ]
  },
  {
   "cell_type": "code",
   "execution_count": 18,
   "metadata": {},
   "outputs": [],
   "source": [
    "opinion_columns = [\n",
    "    'auditor_fkey',\n",
    "    'auditor_name',\n",
    "    'auditor_city',\n",
    "    'auditor_state',\n",
    "    'auditor_country',\n",
    "    'fiscal_year_end_op',   ## Full fiscal year end\n",
    "    'fiscal_year_of_op',    ## Just the year\n",
    "    'form_fkey',\n",
    "    'file_date',\n",
    "    'company_fkey',\n",
    "    'best_edgar_ticker',\n",
    "    'matchfy_sum_audfees',   ## Audit fees column \n",
    "]"
   ]
  },
  {
   "cell_type": "markdown",
   "metadata": {},
   "source": [
    "### States to keep as per Choi et al. (2010)."
   ]
  },
  {
   "cell_type": "code",
   "execution_count": 19,
   "metadata": {},
   "outputs": [],
   "source": [
    "US_states = [\n",
    "    'AL', 'AK', 'AZ', 'AR', 'CA', 'CO', 'CT', 'DE',\n",
    "    'FL', 'GA', 'HI', 'ID', 'IL', 'IN', 'IA', 'KS',\n",
    "    'KY', 'LA', 'ME', 'MD', 'MA', 'MI', 'MN', 'MS',\n",
    "    'MO', 'MT', 'NE', 'NV', 'NH', 'NJ', 'NM', 'NY',\n",
    "    'NC', 'ND', 'OH', 'OK', 'OR', 'PA', 'RI', 'SC',\n",
    "    'SD', 'TN', 'TX', 'UT', 'VT', 'VA', 'WA', 'WV',\n",
    "    'WI', 'WY'\n",
    "]"
   ]
  },
  {
   "cell_type": "markdown",
   "metadata": {},
   "source": [
    "### Run query"
   ]
  },
  {
   "cell_type": "code",
   "execution_count": 20,
   "metadata": {},
   "outputs": [],
   "source": [
    "sql_query = f\"\"\"\n",
    "SELECT {','.join(opinion_columns)}\n",
    "FROM audit_audit_comp.auditopin\n",
    "WHERE auditor_state IN ({','.join([\"'\" + x + \"'\" for x in US_states])})\n",
    "\"\"\""
   ]
  },
  {
   "cell_type": "code",
   "execution_count": 21,
   "metadata": {
    "scrolled": true
   },
   "outputs": [],
   "source": [
    "if not LOAD_LOCAL:\n",
    "    raw_aa_opinions_df = db.raw_sql(sql_query)\n",
    "    print(f'''Retrieved a dataset with {len(raw_aa_opinions_df):,} rows.''')\n",
    "\n",
    "    ## Any columns with dates need to be converted before they can be saved as .dta\n",
    "    date_col_dict = {\n",
    "        'fiscal_year_end_op' : '%Y-%m-%d', \n",
    "        'file_date' :  '%Y-%m-%d'\n",
    "    }\n",
    "\n",
    "    for col, dformat in date_col_dict.items():\n",
    "        raw_aa_opinions_df[col] = pd.to_datetime(raw_aa_opinions_df[col], format=dformat)\n",
    "\n",
    "\n",
    "    ## Store raw dataset\n",
    "    file_name = f'audit_analytics_opinions_{current_date}.dta'\n",
    "    raw_aa_opinions_df.to_stata(wrds_raw_folder / file_name, write_index = False)\n",
    "\n",
    "    print(f'''Stored the Audit Opinions dataset with the filename: {file_name}''')"
   ]
  },
  {
   "cell_type": "markdown",
   "metadata": {},
   "source": [
    "----\n",
    "## Load local datasets (if requested)"
   ]
  },
  {
   "cell_type": "code",
   "execution_count": 22,
   "metadata": {},
   "outputs": [],
   "source": [
    "if LOAD_LOCAL:\n",
    "    raw_aa_opinions_df = pd.read_stata(wrds_raw_folder / 'audit_analytics_opinions_06-03-2022.dta') ## Change this to reflect your file."
   ]
  },
  {
   "cell_type": "markdown",
   "metadata": {},
   "source": [
    "## Inspect raw datasets"
   ]
  },
  {
   "cell_type": "markdown",
   "metadata": {},
   "source": [
    "### Auditor Opinions dataset"
   ]
  },
  {
   "cell_type": "code",
   "execution_count": 23,
   "metadata": {
    "scrolled": false
   },
   "outputs": [
    {
     "data": {
      "text/html": [
       "<div>\n",
       "<style scoped>\n",
       "    .dataframe tbody tr th:only-of-type {\n",
       "        vertical-align: middle;\n",
       "    }\n",
       "\n",
       "    .dataframe tbody tr th {\n",
       "        vertical-align: top;\n",
       "    }\n",
       "\n",
       "    .dataframe thead th {\n",
       "        text-align: right;\n",
       "    }\n",
       "</style>\n",
       "<table border=\"1\" class=\"dataframe\">\n",
       "  <thead>\n",
       "    <tr style=\"text-align: right;\">\n",
       "      <th></th>\n",
       "      <th>0</th>\n",
       "      <th>1</th>\n",
       "      <th>2</th>\n",
       "    </tr>\n",
       "  </thead>\n",
       "  <tbody>\n",
       "    <tr>\n",
       "      <th>auditor_fkey</th>\n",
       "      <td>5.00</td>\n",
       "      <td>5.00</td>\n",
       "      <td>4.00</td>\n",
       "    </tr>\n",
       "    <tr>\n",
       "      <th>auditor_name</th>\n",
       "      <td>Arthur Andersen LLP</td>\n",
       "      <td>Arthur Andersen LLP</td>\n",
       "      <td>KPMG LLP</td>\n",
       "    </tr>\n",
       "    <tr>\n",
       "      <th>auditor_city</th>\n",
       "      <td>Philadelphia</td>\n",
       "      <td>Philadelphia</td>\n",
       "      <td>Philadelphia</td>\n",
       "    </tr>\n",
       "    <tr>\n",
       "      <th>auditor_state</th>\n",
       "      <td>PA</td>\n",
       "      <td>PA</td>\n",
       "      <td>PA</td>\n",
       "    </tr>\n",
       "    <tr>\n",
       "      <th>auditor_country</th>\n",
       "      <td>USA</td>\n",
       "      <td>USA</td>\n",
       "      <td>USA</td>\n",
       "    </tr>\n",
       "    <tr>\n",
       "      <th>fiscal_year_end_op</th>\n",
       "      <td>2000-12-30 00:00:00</td>\n",
       "      <td>2001-12-29 00:00:00</td>\n",
       "      <td>2002-12-28 00:00:00</td>\n",
       "    </tr>\n",
       "    <tr>\n",
       "      <th>fiscal_year_of_op</th>\n",
       "      <td>2,000.00</td>\n",
       "      <td>2,001.00</td>\n",
       "      <td>2,002.00</td>\n",
       "    </tr>\n",
       "    <tr>\n",
       "      <th>form_fkey</th>\n",
       "      <td>10-K</td>\n",
       "      <td>10-K405</td>\n",
       "      <td>10-K</td>\n",
       "    </tr>\n",
       "    <tr>\n",
       "      <th>file_date</th>\n",
       "      <td>2001-03-26 00:00:00</td>\n",
       "      <td>2002-03-20 00:00:00</td>\n",
       "      <td>2003-03-27 00:00:00</td>\n",
       "    </tr>\n",
       "    <tr>\n",
       "      <th>company_fkey</th>\n",
       "      <td>0000000020</td>\n",
       "      <td>0000000020</td>\n",
       "      <td>0000000020</td>\n",
       "    </tr>\n",
       "    <tr>\n",
       "      <th>best_edgar_ticker</th>\n",
       "      <td></td>\n",
       "      <td></td>\n",
       "      <td></td>\n",
       "    </tr>\n",
       "    <tr>\n",
       "      <th>matchfy_sum_audfees</th>\n",
       "      <td>200,000.00</td>\n",
       "      <td>185,000.00</td>\n",
       "      <td>123,700.00</td>\n",
       "    </tr>\n",
       "  </tbody>\n",
       "</table>\n",
       "</div>"
      ],
      "text/plain": [
       "                                       0                    1  \\\n",
       "auditor_fkey                        5.00                 5.00   \n",
       "auditor_name         Arthur Andersen LLP  Arthur Andersen LLP   \n",
       "auditor_city                Philadelphia         Philadelphia   \n",
       "auditor_state                         PA                   PA   \n",
       "auditor_country                      USA                  USA   \n",
       "fiscal_year_end_op   2000-12-30 00:00:00  2001-12-29 00:00:00   \n",
       "fiscal_year_of_op               2,000.00             2,001.00   \n",
       "form_fkey                           10-K              10-K405   \n",
       "file_date            2001-03-26 00:00:00  2002-03-20 00:00:00   \n",
       "company_fkey                  0000000020           0000000020   \n",
       "best_edgar_ticker                                               \n",
       "matchfy_sum_audfees           200,000.00           185,000.00   \n",
       "\n",
       "                                       2  \n",
       "auditor_fkey                        4.00  \n",
       "auditor_name                    KPMG LLP  \n",
       "auditor_city                Philadelphia  \n",
       "auditor_state                         PA  \n",
       "auditor_country                      USA  \n",
       "fiscal_year_end_op   2002-12-28 00:00:00  \n",
       "fiscal_year_of_op               2,002.00  \n",
       "form_fkey                           10-K  \n",
       "file_date            2003-03-27 00:00:00  \n",
       "company_fkey                  0000000020  \n",
       "best_edgar_ticker                         \n",
       "matchfy_sum_audfees           123,700.00  "
      ]
     },
     "execution_count": 23,
     "metadata": {},
     "output_type": "execute_result"
    }
   ],
   "source": [
    "raw_aa_opinions_df.head(3).T"
   ]
  },
  {
   "cell_type": "markdown",
   "metadata": {},
   "source": [
    "## Create working copy of the datasets"
   ]
  },
  {
   "cell_type": "code",
   "execution_count": 24,
   "metadata": {},
   "outputs": [],
   "source": [
    "aa_opinions_df = copy.deepcopy(raw_aa_opinions_df)"
   ]
  },
  {
   "cell_type": "markdown",
   "metadata": {},
   "source": [
    "## Basic data processing steps"
   ]
  },
  {
   "cell_type": "markdown",
   "metadata": {},
   "source": [
    "### Data types"
   ]
  },
  {
   "cell_type": "code",
   "execution_count": 25,
   "metadata": {},
   "outputs": [],
   "source": [
    "aa_opinions_df['fiscal_year_of_op'] = aa_opinions_df['fiscal_year_of_op'].astype(int)\n",
    "aa_opinions_df['auditor_fkey'] = aa_opinions_df['auditor_fkey'].astype(int)"
   ]
  },
  {
   "cell_type": "markdown",
   "metadata": {},
   "source": [
    "### Rename columns for convenience"
   ]
  },
  {
   "cell_type": "code",
   "execution_count": 26,
   "metadata": {},
   "outputs": [],
   "source": [
    "aa_opinions_df = aa_opinions_df.rename(columns = {\n",
    "    'fiscal_year_of_op' : 'fiscal_year'\n",
    "})"
   ]
  },
  {
   "cell_type": "markdown",
   "metadata": {},
   "source": [
    "-----\n",
    "# Generate office level dataset\n",
    "-----"
   ]
  },
  {
   "cell_type": "markdown",
   "metadata": {},
   "source": [
    "## Limit sample"
   ]
  },
  {
   "attachments": {
    "image-2.png": {
     "image/png": "[encoded data removed]"
    },
    "image.png": {
     "image/png": "[encoded data removed]"
    }
   },
   "cell_type": "markdown",
   "metadata": {},
   "source": [
    "### Drop observations that don't have audit fees data\n",
    "\n",
    "The audit fees dataset appears to lag behind the audit opinions dataset, which results in missing values:    \n",
    "\n",
    "![image.png](attachment:image.png)\n",
    "\n",
    "![image-2.png](attachment:image-2.png)"
   ]
  },
  {
   "cell_type": "code",
   "execution_count": 27,
   "metadata": {},
   "outputs": [
    {
     "name": "stdout",
     "output_type": "stream",
     "text": [
      "Number of obs before drop: 312,298\n",
      "Number of obs after drop: 207,127\n"
     ]
    }
   ],
   "source": [
    "print(f'''Number of obs before drop: {len(aa_opinions_df.index):,}''')\n",
    "aa_opinions_df = aa_opinions_df.dropna(subset=['company_fkey', 'matchfy_sum_audfees'])\n",
    "print(f'''Number of obs after drop: {len(aa_opinions_df.index):,}''')"
   ]
  },
  {
   "cell_type": "markdown",
   "metadata": {},
   "source": [
    "### Drop observations with missing office city "
   ]
  },
  {
   "cell_type": "code",
   "execution_count": 28,
   "metadata": {},
   "outputs": [
    {
     "name": "stdout",
     "output_type": "stream",
     "text": [
      "Number of obs before drop: 207,127\n",
      "Number of obs after drop: 207,120\n"
     ]
    }
   ],
   "source": [
    "print(f'''Number of obs before drop: {len(aa_opinions_df.index):,}''')\n",
    "aa_opinions_df = aa_opinions_df[(pd.notna(aa_opinions_df['auditor_city'])) & (aa_opinions_df['auditor_city'].str.strip() != '')]\n",
    "print(f'''Number of obs after drop: {len(aa_opinions_df.index):,}''')"
   ]
  },
  {
   "attachments": {
    "image.png": {
     "image/png": "[encoded data removed]"
    }
   },
   "cell_type": "markdown",
   "metadata": {},
   "source": [
    "### Limit to 2018, 2019, 2020\n",
    "\n",
    "Note, it is not possible (as of 6/1/2022) to calculate the stats for 2021 as the AA coverage is still too low as of June 2022.\n",
    "\n",
    "![image.png](attachment:image.png)"
   ]
  },
  {
   "cell_type": "code",
   "execution_count": 29,
   "metadata": {},
   "outputs": [],
   "source": [
    "years_to_keep = [2018, 2019, 2020]"
   ]
  },
  {
   "cell_type": "code",
   "execution_count": 30,
   "metadata": {},
   "outputs": [],
   "source": [
    "aa_opinions_df = aa_opinions_df[aa_opinions_df.fiscal_year.isin(years_to_keep)]"
   ]
  },
  {
   "cell_type": "markdown",
   "metadata": {},
   "source": [
    "## Add columns"
   ]
  },
  {
   "cell_type": "markdown",
   "metadata": {},
   "source": [
    "### Big 4 or not"
   ]
  },
  {
   "cell_type": "code",
   "execution_count": 31,
   "metadata": {},
   "outputs": [],
   "source": [
    "big_4 = [\n",
    "    'Deloitte & Touche LLP',\n",
    "    'PricewaterhouseCoopers LLP',\n",
    "    'Ernst & Young LLP',\n",
    "    'KPMG LLP'\n",
    "]"
   ]
  },
  {
   "cell_type": "code",
   "execution_count": 32,
   "metadata": {},
   "outputs": [],
   "source": [
    "aa_opinions_df['is_big_4'] = aa_opinions_df['auditor_name'].isin(big_4)**1"
   ]
  },
  {
   "cell_type": "markdown",
   "metadata": {},
   "source": [
    "A few descriptive stats:"
   ]
  },
  {
   "cell_type": "code",
   "execution_count": 33,
   "metadata": {},
   "outputs": [
    {
     "data": {
      "text/html": [
       "<div>\n",
       "<style scoped>\n",
       "    .dataframe tbody tr th:only-of-type {\n",
       "        vertical-align: middle;\n",
       "    }\n",
       "\n",
       "    .dataframe tbody tr th {\n",
       "        vertical-align: top;\n",
       "    }\n",
       "\n",
       "    .dataframe thead th {\n",
       "        text-align: right;\n",
       "    }\n",
       "</style>\n",
       "<table border=\"1\" class=\"dataframe\">\n",
       "  <thead>\n",
       "    <tr style=\"text-align: right;\">\n",
       "      <th></th>\n",
       "      <th>is_big_4</th>\n",
       "      <th>Number of opinions:</th>\n",
       "    </tr>\n",
       "  </thead>\n",
       "  <tbody>\n",
       "    <tr>\n",
       "      <th>0</th>\n",
       "      <td>0</td>\n",
       "      <td>9781</td>\n",
       "    </tr>\n",
       "    <tr>\n",
       "      <th>1</th>\n",
       "      <td>1</td>\n",
       "      <td>14300</td>\n",
       "    </tr>\n",
       "  </tbody>\n",
       "</table>\n",
       "</div>"
      ],
      "text/plain": [
       "   is_big_4  Number of opinions:\n",
       "0         0                 9781\n",
       "1         1                14300"
      ]
     },
     "execution_count": 33,
     "metadata": {},
     "output_type": "execute_result"
    }
   ],
   "source": [
    "col = 'company_fkey'\n",
    "aa_opinions_df.groupby('is_big_4')[col].count().reset_index().rename(columns={col : 'Number of opinions:'})"
   ]
  },
  {
   "cell_type": "code",
   "execution_count": 34,
   "metadata": {
    "scrolled": false
   },
   "outputs": [
    {
     "name": "stdout",
     "output_type": "stream",
     "text": [
      "The top 10 biggest audit firms in the sample:\n"
     ]
    },
    {
     "data": {
      "text/plain": [
       "PricewaterhouseCoopers LLP    4028\n",
       "Ernst & Young LLP             3995\n",
       "Deloitte & Touche LLP         3527\n",
       "KPMG LLP                      2750\n",
       "BDO USA LLP                    727\n",
       "Grant Thornton LLP             712\n",
       "Marcum LLP                     658\n",
       "RSM US LLP                     469\n",
       "Cohen & Company Ltd (OH)       465\n",
       "WithumSmith + Brown PC         316\n",
       "Name: auditor_name, dtype: int64"
      ]
     },
     "execution_count": 34,
     "metadata": {},
     "output_type": "execute_result"
    }
   ],
   "source": [
    "print('The top 10 biggest audit firms in the sample:')\n",
    "aa_opinions_df.auditor_name.value_counts().head(10)"
   ]
  },
  {
   "cell_type": "markdown",
   "metadata": {},
   "source": [
    "## Collapse to the audit office level"
   ]
  },
  {
   "cell_type": "markdown",
   "metadata": {},
   "source": [
    "### Create unique ID for audit office at the city level"
   ]
  },
  {
   "cell_type": "code",
   "execution_count": 35,
   "metadata": {},
   "outputs": [
    {
     "name": "stdout",
     "output_type": "stream",
     "text": [
      "Number of unique auditors: 291\n",
      "Number of unique auditor + office city combinations: 940\n"
     ]
    }
   ],
   "source": [
    "aa_opinions_df['auditor_office_id'] = aa_opinions_df['auditor_name'] + '---' + aa_opinions_df['auditor_city']\n",
    "\n",
    "print(f'''Number of unique auditors: {len(aa_opinions_df['auditor_name'].unique()):,}''')\n",
    "print(f'''Number of unique auditor + office city combinations: {len(aa_opinions_df['auditor_office_id'].unique()):,}''')"
   ]
  },
  {
   "cell_type": "code",
   "execution_count": 36,
   "metadata": {},
   "outputs": [
    {
     "name": "stdout",
     "output_type": "stream",
     "text": [
      "The top 10 biggest audit offices in the sample:\n"
     ]
    },
    {
     "data": {
      "text/plain": [
       "Deloitte & Touche LLP---Boston               862\n",
       "Ernst & Young LLP---Boston                   726\n",
       "PricewaterhouseCoopers LLP---Boston          593\n",
       "PricewaterhouseCoopers LLP---New York        557\n",
       "Ernst & Young LLP---New York                 544\n",
       "Marcum LLP---New York                        396\n",
       "PricewaterhouseCoopers LLP---Philadelphia    392\n",
       "PricewaterhouseCoopers LLP---Baltimore       368\n",
       "KPMG LLP---New York                          341\n",
       "KPMG LLP---Chicago                           329\n",
       "Name: auditor_office_id, dtype: int64"
      ]
     },
     "execution_count": 36,
     "metadata": {},
     "output_type": "execute_result"
    }
   ],
   "source": [
    "print('The top 10 biggest audit offices in the sample:')\n",
    "aa_opinions_df.auditor_office_id.value_counts().head(10)"
   ]
  },
  {
   "cell_type": "markdown",
   "metadata": {},
   "source": [
    "### Collapse to audit office level"
   ]
  },
  {
   "cell_type": "code",
   "execution_count": 37,
   "metadata": {
    "scrolled": false
   },
   "outputs": [],
   "source": [
    "office_df = aa_opinions_df.groupby(['auditor_office_id', 'fiscal_year'], as_index=False).agg({\n",
    "    'company_fkey' : 'count', \n",
    "    'matchfy_sum_audfees' : 'sum',\n",
    "    'is_big_4' : 'first'\n",
    "})"
   ]
  },
  {
   "cell_type": "markdown",
   "metadata": {},
   "source": [
    "### Clean up dataset"
   ]
  },
  {
   "cell_type": "code",
   "execution_count": 38,
   "metadata": {},
   "outputs": [],
   "source": [
    "office_df['auditor_name'] = office_df.auditor_office_id.apply(lambda x: x.split('---')[0])\n",
    "office_df['auditor_office_city'] = office_df.auditor_office_id.apply(lambda x: x.split('---')[1])"
   ]
  },
  {
   "cell_type": "code",
   "execution_count": 39,
   "metadata": {},
   "outputs": [],
   "source": [
    "office_df = office_df.sort_values(['auditor_name', 'auditor_office_city', 'fiscal_year'])"
   ]
  },
  {
   "cell_type": "code",
   "execution_count": 40,
   "metadata": {},
   "outputs": [],
   "source": [
    "office_df = office_df.rename(columns={\n",
    "    'company_fkey' : 'num_clients',\n",
    "    'matchfy_sum_audfees' : 'total_audit_fees'\n",
    "})"
   ]
  },
  {
   "cell_type": "markdown",
   "metadata": {},
   "source": [
    "### Inspect office dataset"
   ]
  },
  {
   "cell_type": "markdown",
   "metadata": {},
   "source": [
    "Show random sample:"
   ]
  },
  {
   "cell_type": "code",
   "execution_count": 41,
   "metadata": {
    "scrolled": true
   },
   "outputs": [
    {
     "data": {
      "text/html": [
       "<div>\n",
       "<style scoped>\n",
       "    .dataframe tbody tr th:only-of-type {\n",
       "        vertical-align: middle;\n",
       "    }\n",
       "\n",
       "    .dataframe tbody tr th {\n",
       "        vertical-align: top;\n",
       "    }\n",
       "\n",
       "    .dataframe thead th {\n",
       "        text-align: right;\n",
       "    }\n",
       "</style>\n",
       "<table border=\"1\" class=\"dataframe\">\n",
       "  <thead>\n",
       "    <tr style=\"text-align: right;\">\n",
       "      <th></th>\n",
       "      <th>auditor_office_id</th>\n",
       "      <th>fiscal_year</th>\n",
       "      <th>num_clients</th>\n",
       "      <th>total_audit_fees</th>\n",
       "      <th>is_big_4</th>\n",
       "      <th>auditor_name</th>\n",
       "      <th>auditor_office_city</th>\n",
       "    </tr>\n",
       "  </thead>\n",
       "  <tbody>\n",
       "    <tr>\n",
       "      <th>2311</th>\n",
       "      <td>Whitley Penn LLP---Plano</td>\n",
       "      <td>2018</td>\n",
       "      <td>3</td>\n",
       "      <td>510,570.00</td>\n",
       "      <td>0</td>\n",
       "      <td>Whitley Penn LLP</td>\n",
       "      <td>Plano</td>\n",
       "    </tr>\n",
       "    <tr>\n",
       "      <th>581</th>\n",
       "      <td>Deloitte &amp; Touche LLP---Grand Rapids</td>\n",
       "      <td>2019</td>\n",
       "      <td>4</td>\n",
       "      <td>4,736,674.00</td>\n",
       "      <td>1</td>\n",
       "      <td>Deloitte &amp; Touche LLP</td>\n",
       "      <td>Grand Rapids</td>\n",
       "    </tr>\n",
       "    <tr>\n",
       "      <th>392</th>\n",
       "      <td>Citrin Cooperman &amp; Company LLP---New York</td>\n",
       "      <td>2019</td>\n",
       "      <td>1</td>\n",
       "      <td>80,175.00</td>\n",
       "      <td>0</td>\n",
       "      <td>Citrin Cooperman &amp; Company LLP</td>\n",
       "      <td>New York</td>\n",
       "    </tr>\n",
       "    <tr>\n",
       "      <th>932</th>\n",
       "      <td>Ernst &amp; Young LLP---Saint Louis</td>\n",
       "      <td>2020</td>\n",
       "      <td>9</td>\n",
       "      <td>31,569,388.00</td>\n",
       "      <td>1</td>\n",
       "      <td>Ernst &amp; Young LLP</td>\n",
       "      <td>Saint Louis</td>\n",
       "    </tr>\n",
       "    <tr>\n",
       "      <th>1442</th>\n",
       "      <td>KPMG LLP---Tampa</td>\n",
       "      <td>2019</td>\n",
       "      <td>7</td>\n",
       "      <td>18,970,128.00</td>\n",
       "      <td>1</td>\n",
       "      <td>KPMG LLP</td>\n",
       "      <td>Tampa</td>\n",
       "    </tr>\n",
       "  </tbody>\n",
       "</table>\n",
       "</div>"
      ],
      "text/plain": [
       "                              auditor_office_id  fiscal_year  num_clients  \\\n",
       "2311                   Whitley Penn LLP---Plano         2018            3   \n",
       "581        Deloitte & Touche LLP---Grand Rapids         2019            4   \n",
       "392   Citrin Cooperman & Company LLP---New York         2019            1   \n",
       "932             Ernst & Young LLP---Saint Louis         2020            9   \n",
       "1442                           KPMG LLP---Tampa         2019            7   \n",
       "\n",
       "      total_audit_fees  is_big_4                    auditor_name  \\\n",
       "2311        510,570.00         0                Whitley Penn LLP   \n",
       "581       4,736,674.00         1           Deloitte & Touche LLP   \n",
       "392          80,175.00         0  Citrin Cooperman & Company LLP   \n",
       "932      31,569,388.00         1               Ernst & Young LLP   \n",
       "1442     18,970,128.00         1                        KPMG LLP   \n",
       "\n",
       "     auditor_office_city  \n",
       "2311               Plano  \n",
       "581         Grand Rapids  \n",
       "392             New York  \n",
       "932          Saint Louis  \n",
       "1442               Tampa  "
      ]
     },
     "execution_count": 41,
     "metadata": {},
     "output_type": "execute_result"
    }
   ],
   "source": [
    "office_df.sample(5)"
   ]
  },
  {
   "cell_type": "markdown",
   "metadata": {},
   "source": [
    "Show a random slice that keeps time series order:"
   ]
  },
  {
   "cell_type": "code",
   "execution_count": 42,
   "metadata": {},
   "outputs": [
    {
     "name": "stdout",
     "output_type": "stream",
     "text": [
      "421\n"
     ]
    },
    {
     "data": {
      "text/html": [
       "<div>\n",
       "<style scoped>\n",
       "    .dataframe tbody tr th:only-of-type {\n",
       "        vertical-align: middle;\n",
       "    }\n",
       "\n",
       "    .dataframe tbody tr th {\n",
       "        vertical-align: top;\n",
       "    }\n",
       "\n",
       "    .dataframe thead th {\n",
       "        text-align: right;\n",
       "    }\n",
       "</style>\n",
       "<table border=\"1\" class=\"dataframe\">\n",
       "  <thead>\n",
       "    <tr style=\"text-align: right;\">\n",
       "      <th></th>\n",
       "      <th>auditor_office_id</th>\n",
       "      <th>fiscal_year</th>\n",
       "      <th>num_clients</th>\n",
       "      <th>total_audit_fees</th>\n",
       "      <th>is_big_4</th>\n",
       "      <th>auditor_name</th>\n",
       "      <th>auditor_office_city</th>\n",
       "    </tr>\n",
       "  </thead>\n",
       "  <tbody>\n",
       "    <tr>\n",
       "      <th>421</th>\n",
       "      <td>CohnReznick LLP---Jericho</td>\n",
       "      <td>2020</td>\n",
       "      <td>7</td>\n",
       "      <td>1,295,420.00</td>\n",
       "      <td>0</td>\n",
       "      <td>CohnReznick LLP</td>\n",
       "      <td>Jericho</td>\n",
       "    </tr>\n",
       "    <tr>\n",
       "      <th>422</th>\n",
       "      <td>CohnReznick LLP---New York</td>\n",
       "      <td>2018</td>\n",
       "      <td>5</td>\n",
       "      <td>4,165,340.00</td>\n",
       "      <td>0</td>\n",
       "      <td>CohnReznick LLP</td>\n",
       "      <td>New York</td>\n",
       "    </tr>\n",
       "    <tr>\n",
       "      <th>423</th>\n",
       "      <td>CohnReznick LLP---New York</td>\n",
       "      <td>2019</td>\n",
       "      <td>4</td>\n",
       "      <td>2,045,713.00</td>\n",
       "      <td>0</td>\n",
       "      <td>CohnReznick LLP</td>\n",
       "      <td>New York</td>\n",
       "    </tr>\n",
       "    <tr>\n",
       "      <th>424</th>\n",
       "      <td>CohnReznick LLP---New York</td>\n",
       "      <td>2020</td>\n",
       "      <td>4</td>\n",
       "      <td>1,176,400.00</td>\n",
       "      <td>0</td>\n",
       "      <td>CohnReznick LLP</td>\n",
       "      <td>New York</td>\n",
       "    </tr>\n",
       "    <tr>\n",
       "      <th>425</th>\n",
       "      <td>CohnReznick LLP---Roseland</td>\n",
       "      <td>2018</td>\n",
       "      <td>5</td>\n",
       "      <td>1,818,979.00</td>\n",
       "      <td>0</td>\n",
       "      <td>CohnReznick LLP</td>\n",
       "      <td>Roseland</td>\n",
       "    </tr>\n",
       "    <tr>\n",
       "      <th>426</th>\n",
       "      <td>CohnReznick LLP---Roseland</td>\n",
       "      <td>2019</td>\n",
       "      <td>8</td>\n",
       "      <td>2,557,494.00</td>\n",
       "      <td>0</td>\n",
       "      <td>CohnReznick LLP</td>\n",
       "      <td>Roseland</td>\n",
       "    </tr>\n",
       "    <tr>\n",
       "      <th>427</th>\n",
       "      <td>CohnReznick LLP---Roseland</td>\n",
       "      <td>2020</td>\n",
       "      <td>2</td>\n",
       "      <td>407,752.00</td>\n",
       "      <td>0</td>\n",
       "      <td>CohnReznick LLP</td>\n",
       "      <td>Roseland</td>\n",
       "    </tr>\n",
       "    <tr>\n",
       "      <th>428</th>\n",
       "      <td>CohnReznick LLP---Tysons</td>\n",
       "      <td>2018</td>\n",
       "      <td>3</td>\n",
       "      <td>538,694.00</td>\n",
       "      <td>0</td>\n",
       "      <td>CohnReznick LLP</td>\n",
       "      <td>Tysons</td>\n",
       "    </tr>\n",
       "    <tr>\n",
       "      <th>429</th>\n",
       "      <td>CohnReznick LLP---Tysons</td>\n",
       "      <td>2019</td>\n",
       "      <td>3</td>\n",
       "      <td>585,824.00</td>\n",
       "      <td>0</td>\n",
       "      <td>CohnReznick LLP</td>\n",
       "      <td>Tysons</td>\n",
       "    </tr>\n",
       "    <tr>\n",
       "      <th>430</th>\n",
       "      <td>CohnReznick LLP---Tysons</td>\n",
       "      <td>2020</td>\n",
       "      <td>5</td>\n",
       "      <td>2,438,333.00</td>\n",
       "      <td>0</td>\n",
       "      <td>CohnReznick LLP</td>\n",
       "      <td>Tysons</td>\n",
       "    </tr>\n",
       "  </tbody>\n",
       "</table>\n",
       "</div>"
      ],
      "text/plain": [
       "              auditor_office_id  fiscal_year  num_clients  total_audit_fees  \\\n",
       "421   CohnReznick LLP---Jericho         2020            7      1,295,420.00   \n",
       "422  CohnReznick LLP---New York         2018            5      4,165,340.00   \n",
       "423  CohnReznick LLP---New York         2019            4      2,045,713.00   \n",
       "424  CohnReznick LLP---New York         2020            4      1,176,400.00   \n",
       "425  CohnReznick LLP---Roseland         2018            5      1,818,979.00   \n",
       "426  CohnReznick LLP---Roseland         2019            8      2,557,494.00   \n",
       "427  CohnReznick LLP---Roseland         2020            2        407,752.00   \n",
       "428    CohnReznick LLP---Tysons         2018            3        538,694.00   \n",
       "429    CohnReznick LLP---Tysons         2019            3        585,824.00   \n",
       "430    CohnReznick LLP---Tysons         2020            5      2,438,333.00   \n",
       "\n",
       "     is_big_4     auditor_name auditor_office_city  \n",
       "421         0  CohnReznick LLP             Jericho  \n",
       "422         0  CohnReznick LLP            New York  \n",
       "423         0  CohnReznick LLP            New York  \n",
       "424         0  CohnReznick LLP            New York  \n",
       "425         0  CohnReznick LLP            Roseland  \n",
       "426         0  CohnReznick LLP            Roseland  \n",
       "427         0  CohnReznick LLP            Roseland  \n",
       "428         0  CohnReznick LLP              Tysons  \n",
       "429         0  CohnReznick LLP              Tysons  \n",
       "430         0  CohnReznick LLP              Tysons  "
      ]
     },
     "execution_count": 42,
     "metadata": {},
     "output_type": "execute_result"
    }
   ],
   "source": [
    "num_obs = 10\n",
    "rand_int = random.randint(0, len(office_df)-num_obs)\n",
    "print(rand_int)\n",
    "office_df.iloc[rand_int:rand_int+num_obs]"
   ]
  },
  {
   "cell_type": "markdown",
   "metadata": {},
   "source": [
    "## Add \"large\" vs. \"small indicators\"\n",
    "\n",
    "Choi does it based on the median.   \n",
    "Beck does it within audit firm based on the 10% cut-off"
   ]
  },
  {
   "cell_type": "markdown",
   "metadata": {},
   "source": [
    "### Choi et al. version "
   ]
  },
  {
   "cell_type": "code",
   "execution_count": 43,
   "metadata": {},
   "outputs": [
    {
     "data": {
      "text/plain": [
       "{'num_clients': {2018: 3.0, 2019: 3.0, 2020: 3.0},\n",
       " 'total_audit_fees': {2018: 1268000.0, 2019: 1364215.5, 2020: 1629331.5},\n",
       " 'is_big_4': {2018: 0.0, 2019: 0.0, 2020: 0.0}}"
      ]
     },
     "execution_count": 43,
     "metadata": {},
     "output_type": "execute_result"
    }
   ],
   "source": [
    "median_cutoff_dict = office_df.groupby('fiscal_year').median().to_dict()\n",
    "median_cutoff_dict"
   ]
  },
  {
   "cell_type": "code",
   "execution_count": 44,
   "metadata": {},
   "outputs": [
    {
     "data": {
      "text/plain": [
       "0    1218\n",
       "1    1167\n",
       "Name: choi_large_office_by_clients, dtype: int64"
      ]
     },
     "execution_count": 44,
     "metadata": {},
     "output_type": "execute_result"
    }
   ],
   "source": [
    "tmp = office_df.apply(lambda row: row['num_clients'] > median_cutoff_dict['num_clients'][row['fiscal_year']], axis = 1) ** 1\n",
    "office_df['choi_large_office_by_clients'] = tmp\n",
    "office_df['choi_large_office_by_clients'].value_counts()"
   ]
  },
  {
   "cell_type": "code",
   "execution_count": 45,
   "metadata": {},
   "outputs": [
    {
     "data": {
      "text/plain": [
       "0    1193\n",
       "1    1192\n",
       "Name: choi_large_office_by_fees, dtype: int64"
      ]
     },
     "execution_count": 45,
     "metadata": {},
     "output_type": "execute_result"
    }
   ],
   "source": [
    "tmp = office_df.apply(lambda row: row['total_audit_fees'] > median_cutoff_dict['total_audit_fees'][row['fiscal_year']], axis = 1) ** 1\n",
    "office_df['choi_large_office_by_fees'] = tmp\n",
    "\n",
    "office_df['choi_large_office_by_fees'].value_counts()"
   ]
  },
  {
   "cell_type": "markdown",
   "metadata": {},
   "source": [
    "### Beck et al. version\n",
    "\n",
    "As described in Footnote 1:\n",
    "> Throughout the paper and in our empirical analysis we refer to offices in the top decile of total audit fees within each Big 4 firm as “large” and to all other offices as “small.”\n",
    "\n",
    "This only applies to big 4 firms, so I set it to missing for non-big 4!"
   ]
  },
  {
   "cell_type": "code",
   "execution_count": 46,
   "metadata": {},
   "outputs": [
    {
     "data": {
      "text/html": [
       "<div>\n",
       "<style scoped>\n",
       "    .dataframe tbody tr th:only-of-type {\n",
       "        vertical-align: middle;\n",
       "    }\n",
       "\n",
       "    .dataframe tbody tr th {\n",
       "        vertical-align: top;\n",
       "    }\n",
       "\n",
       "    .dataframe thead th {\n",
       "        text-align: right;\n",
       "    }\n",
       "</style>\n",
       "<table border=\"1\" class=\"dataframe\">\n",
       "  <thead>\n",
       "    <tr style=\"text-align: right;\">\n",
       "      <th></th>\n",
       "      <th>auditor_name</th>\n",
       "      <th>auditor_office_city</th>\n",
       "      <th>total_audit_fees</th>\n",
       "    </tr>\n",
       "  </thead>\n",
       "  <tbody>\n",
       "    <tr>\n",
       "      <th>0</th>\n",
       "      <td>Deloitte &amp; Touche LLP</td>\n",
       "      <td>Atlanta</td>\n",
       "      <td>78,131,962.67</td>\n",
       "    </tr>\n",
       "    <tr>\n",
       "      <th>1</th>\n",
       "      <td>Deloitte &amp; Touche LLP</td>\n",
       "      <td>Austin</td>\n",
       "      <td>2,254,150.67</td>\n",
       "    </tr>\n",
       "    <tr>\n",
       "      <th>2</th>\n",
       "      <td>Deloitte &amp; Touche LLP</td>\n",
       "      <td>Baltimore</td>\n",
       "      <td>4,186,566.67</td>\n",
       "    </tr>\n",
       "    <tr>\n",
       "      <th>3</th>\n",
       "      <td>Deloitte &amp; Touche LLP</td>\n",
       "      <td>Birmingham</td>\n",
       "      <td>5,187,753.33</td>\n",
       "    </tr>\n",
       "    <tr>\n",
       "      <th>4</th>\n",
       "      <td>Deloitte &amp; Touche LLP</td>\n",
       "      <td>Boca Raton</td>\n",
       "      <td>21,307,999.67</td>\n",
       "    </tr>\n",
       "  </tbody>\n",
       "</table>\n",
       "</div>"
      ],
      "text/plain": [
       "            auditor_name auditor_office_city  total_audit_fees\n",
       "0  Deloitte & Touche LLP             Atlanta     78,131,962.67\n",
       "1  Deloitte & Touche LLP              Austin      2,254,150.67\n",
       "2  Deloitte & Touche LLP           Baltimore      4,186,566.67\n",
       "3  Deloitte & Touche LLP          Birmingham      5,187,753.33\n",
       "4  Deloitte & Touche LLP          Boca Raton     21,307,999.67"
      ]
     },
     "execution_count": 46,
     "metadata": {},
     "output_type": "execute_result"
    }
   ],
   "source": [
    "big_4_df = office_df[office_df.is_big_4 == 1].groupby(['auditor_name', 'auditor_office_city'])[['total_audit_fees']].mean().reset_index()\n",
    "big_4_df.head()"
   ]
  },
  {
   "cell_type": "code",
   "execution_count": 47,
   "metadata": {},
   "outputs": [],
   "source": [
    "big_4_df = big_4_df.sort_values(['auditor_name', 'total_audit_fees'], ascending=False)"
   ]
  },
  {
   "cell_type": "code",
   "execution_count": 48,
   "metadata": {},
   "outputs": [
    {
     "name": "stdout",
     "output_type": "stream",
     "text": [
      "         Deloitte & Touche LLP - 10% cut-off -> $87,270,194\n",
      "             Ernst & Young LLP - 10% cut-off -> $128,766,903\n",
      "                      KPMG LLP - 10% cut-off -> $94,584,846\n",
      "    PricewaterhouseCoopers LLP - 10% cut-off -> $137,502,932\n"
     ]
    }
   ],
   "source": [
    "big4_large_cutoffs = big_4_df.groupby('auditor_name')['total_audit_fees'].quantile(0.9).to_dict()\n",
    "for office, amount in big4_large_cutoffs.items():\n",
    "    print(f'''{office : >30} - 10% cut-off -> ${amount:,.0f}''')"
   ]
  },
  {
   "cell_type": "code",
   "execution_count": 49,
   "metadata": {},
   "outputs": [],
   "source": [
    "tmp = big_4_df.apply(lambda row: row['total_audit_fees'] >= big4_large_cutoffs[row['auditor_name']], axis=1) ** 1\n",
    "big_4_df['beck_large_office'] = tmp"
   ]
  },
  {
   "cell_type": "code",
   "execution_count": 50,
   "metadata": {},
   "outputs": [
    {
     "data": {
      "text/html": [
       "<div>\n",
       "<style scoped>\n",
       "    .dataframe tbody tr th:only-of-type {\n",
       "        vertical-align: middle;\n",
       "    }\n",
       "\n",
       "    .dataframe tbody tr th {\n",
       "        vertical-align: top;\n",
       "    }\n",
       "\n",
       "    .dataframe thead th {\n",
       "        text-align: right;\n",
       "    }\n",
       "</style>\n",
       "<table border=\"1\" class=\"dataframe\">\n",
       "  <thead>\n",
       "    <tr style=\"text-align: right;\">\n",
       "      <th></th>\n",
       "      <th>auditor_name</th>\n",
       "      <th>auditor_office_city</th>\n",
       "      <th>total_audit_fees</th>\n",
       "      <th>beck_large_office</th>\n",
       "    </tr>\n",
       "  </thead>\n",
       "  <tbody>\n",
       "    <tr>\n",
       "      <th>196</th>\n",
       "      <td>PricewaterhouseCoopers LLP</td>\n",
       "      <td>Atlanta</td>\n",
       "      <td>57,738,648.67</td>\n",
       "      <td>0</td>\n",
       "    </tr>\n",
       "    <tr>\n",
       "      <th>181</th>\n",
       "      <td>KPMG LLP</td>\n",
       "      <td>Richmond</td>\n",
       "      <td>31,705,494.33</td>\n",
       "      <td>0</td>\n",
       "    </tr>\n",
       "    <tr>\n",
       "      <th>205</th>\n",
       "      <td>PricewaterhouseCoopers LLP</td>\n",
       "      <td>Cleveland</td>\n",
       "      <td>24,943,598.00</td>\n",
       "      <td>0</td>\n",
       "    </tr>\n",
       "    <tr>\n",
       "      <th>201</th>\n",
       "      <td>PricewaterhouseCoopers LLP</td>\n",
       "      <td>Buffalo</td>\n",
       "      <td>7,795,858.33</td>\n",
       "      <td>0</td>\n",
       "    </tr>\n",
       "    <tr>\n",
       "      <th>133</th>\n",
       "      <td>KPMG LLP</td>\n",
       "      <td>Boise</td>\n",
       "      <td>4,299,819.67</td>\n",
       "      <td>0</td>\n",
       "    </tr>\n",
       "    <tr>\n",
       "      <th>178</th>\n",
       "      <td>KPMG LLP</td>\n",
       "      <td>Portland</td>\n",
       "      <td>15,753,021.00</td>\n",
       "      <td>0</td>\n",
       "    </tr>\n",
       "    <tr>\n",
       "      <th>251</th>\n",
       "      <td>PricewaterhouseCoopers LLP</td>\n",
       "      <td>Seattle</td>\n",
       "      <td>39,653,657.00</td>\n",
       "      <td>0</td>\n",
       "    </tr>\n",
       "    <tr>\n",
       "      <th>20</th>\n",
       "      <td>Deloitte &amp; Touche LLP</td>\n",
       "      <td>Hartford</td>\n",
       "      <td>26,917,787.00</td>\n",
       "      <td>0</td>\n",
       "    </tr>\n",
       "    <tr>\n",
       "      <th>37</th>\n",
       "      <td>Deloitte &amp; Touche LLP</td>\n",
       "      <td>New York</td>\n",
       "      <td>506,370,223.67</td>\n",
       "      <td>1</td>\n",
       "    </tr>\n",
       "    <tr>\n",
       "      <th>231</th>\n",
       "      <td>PricewaterhouseCoopers LLP</td>\n",
       "      <td>Minneapolis</td>\n",
       "      <td>80,489,448.00</td>\n",
       "      <td>0</td>\n",
       "    </tr>\n",
       "  </tbody>\n",
       "</table>\n",
       "</div>"
      ],
      "text/plain": [
       "                   auditor_name auditor_office_city  total_audit_fees  \\\n",
       "196  PricewaterhouseCoopers LLP             Atlanta     57,738,648.67   \n",
       "181                    KPMG LLP            Richmond     31,705,494.33   \n",
       "205  PricewaterhouseCoopers LLP           Cleveland     24,943,598.00   \n",
       "201  PricewaterhouseCoopers LLP             Buffalo      7,795,858.33   \n",
       "133                    KPMG LLP               Boise      4,299,819.67   \n",
       "178                    KPMG LLP            Portland     15,753,021.00   \n",
       "251  PricewaterhouseCoopers LLP             Seattle     39,653,657.00   \n",
       "20        Deloitte & Touche LLP            Hartford     26,917,787.00   \n",
       "37        Deloitte & Touche LLP            New York    506,370,223.67   \n",
       "231  PricewaterhouseCoopers LLP         Minneapolis     80,489,448.00   \n",
       "\n",
       "     beck_large_office  \n",
       "196                  0  \n",
       "181                  0  \n",
       "205                  0  \n",
       "201                  0  \n",
       "133                  0  \n",
       "178                  0  \n",
       "251                  0  \n",
       "20                   0  \n",
       "37                   1  \n",
       "231                  0  "
      ]
     },
     "execution_count": 50,
     "metadata": {},
     "output_type": "execute_result"
    }
   ],
   "source": [
    "big_4_df.sample(10)"
   ]
  },
  {
   "cell_type": "code",
   "execution_count": 51,
   "metadata": {},
   "outputs": [],
   "source": [
    "office_df = pd.merge(office_df, big_4_df.drop('total_audit_fees', axis=1), on=['auditor_name', 'auditor_office_city'], how='left')"
   ]
  },
  {
   "cell_type": "code",
   "execution_count": 52,
   "metadata": {},
   "outputs": [
    {
     "data": {
      "text/plain": [
       "NaN     1643\n",
       "0.00     661\n",
       "1.00      81\n",
       "Name: beck_large_office, dtype: int64"
      ]
     },
     "execution_count": 52,
     "metadata": {},
     "output_type": "execute_result"
    }
   ],
   "source": [
    "office_df['beck_large_office'].value_counts(dropna=False)"
   ]
  },
  {
   "cell_type": "markdown",
   "metadata": {},
   "source": [
    "-----\n",
    "# Generate filing level dataset\n",
    "-----"
   ]
  },
  {
   "cell_type": "markdown",
   "metadata": {},
   "source": [
    "## Create new dataset\n",
    "\n",
    "Note, we only keep 10-Ks as the other filings never show up in our main sample."
   ]
  },
  {
   "cell_type": "code",
   "execution_count": 53,
   "metadata": {},
   "outputs": [],
   "source": [
    "filing_level_df = copy.deepcopy(aa_opinions_df)"
   ]
  },
  {
   "cell_type": "code",
   "execution_count": 54,
   "metadata": {},
   "outputs": [],
   "source": [
    "filing_level_df = filing_level_df[aa_opinions_df.form_fkey == '10-K']"
   ]
  },
  {
   "cell_type": "markdown",
   "metadata": {},
   "source": [
    "## Merge office level variables into the filing level dataset"
   ]
  },
  {
   "cell_type": "code",
   "execution_count": 55,
   "metadata": {},
   "outputs": [],
   "source": [
    "office_df_to_merge = office_df.drop(['is_big_4', 'auditor_office_city', 'auditor_name'], axis=1)\n",
    "merge_df = pd.merge(filing_level_df, office_df_to_merge , on=['auditor_office_id', 'fiscal_year'], how='left')\n",
    "\n",
    "assert len(merge_df) == len(filing_level_df), 'Warning, the number of observations changed whereas it should not!'\n",
    "filing_level_df = merge_df"
   ]
  },
  {
   "cell_type": "markdown",
   "metadata": {},
   "source": [
    "## Basic cleaning for convenience"
   ]
  },
  {
   "cell_type": "markdown",
   "metadata": {},
   "source": [
    "### Rename columns"
   ]
  },
  {
   "cell_type": "code",
   "execution_count": 56,
   "metadata": {},
   "outputs": [],
   "source": [
    "filing_level_df = filing_level_df.rename(columns = {\n",
    "    'matchfy_sum_audfees' : 'filing_audit_fees',\n",
    "    'best_edgar_ticker' : 'ticker',\n",
    "    'fiscal_year_end_op' : 'fiscal_year_end'\n",
    "})"
   ]
  },
  {
   "cell_type": "markdown",
   "metadata": {},
   "source": [
    "## Description of audit variables:\n",
    "\n",
    "Choi et al. 2010 measures:\n",
    "\n",
    "- `choi_ofsize1` - the number of clients of the office minus one  (i.e., `num_clients - 1`)\n",
    "- `choi_ofsize2` - the sum of audit fees of all clients - minus the audit fee of specific client (i.e., `total_audit_fees - filing_audit_fees `)\n",
    "- `choi_large_office_by_clients` - 1 if above the median number of `num_clients`, by year; 0 otherwise\n",
    "- `choi_large_office_by_fees` - 1 if above the median sum of `total_audit_fees`, by year; 0 otherwise\n",
    "\n",
    "Beck, Gunn, Hallman (2022, JAE) measures:\n",
    "\n",
    "- `beck_ln_office_size` - natural log of total audit fees genereated during the current year by the opinion signing audit office\n",
    "- `beck_large_office` - An indicator variable equal to 1 if the client is audited by a large audit office, defined as an office in the top ten percent of average audit fees within each audit firm during our sample period; 0 otherwise\n",
    "\n",
    "Ege and Stuber (2022, JAE) measures:\n",
    "\n",
    "- `ege_ln_office_size` - natural log of 1 plus number of audit clients of office j in year t.\n",
    "\n",
    "Other measures:\n",
    "\n",
    "- `is_big_4` - 1 if the audit firm is Big 4, 0 otherwise. \n",
    "- `ln_audit_fees` - The natural log of audit fees paid by the client in the current year.\n",
    "- `auditor_tenure` - TBD\n",
    "- `new_auditor` - 1 if different auditor relative to last year; 0 otherwise\n",
    "- `new_auditor_office` - 1 if different auditor office relative to last year; 0 otherwise"
   ]
  },
  {
   "cell_type": "markdown",
   "metadata": {},
   "source": [
    "## Choi et al. measures"
   ]
  },
  {
   "cell_type": "code",
   "execution_count": 57,
   "metadata": {},
   "outputs": [],
   "source": [
    "filing_level_df['choi_ofsize1'] = filing_level_df['num_clients'] - 1\n",
    "filing_level_df['choi_ofsize2'] = filing_level_df['total_audit_fees'] - filing_level_df['filing_audit_fees']"
   ]
  },
  {
   "cell_type": "markdown",
   "metadata": {},
   "source": [
    "## Beck et al. measures"
   ]
  },
  {
   "cell_type": "code",
   "execution_count": 58,
   "metadata": {},
   "outputs": [],
   "source": [
    "filing_level_df['beck_ln_office_size'] = np.log(filing_level_df['total_audit_fees'] + 1) ## Added +1 to avoid inf"
   ]
  },
  {
   "cell_type": "markdown",
   "metadata": {},
   "source": [
    "## Ege et al. measures"
   ]
  },
  {
   "cell_type": "code",
   "execution_count": 59,
   "metadata": {},
   "outputs": [],
   "source": [
    "filing_level_df['ege_ln_office_size'] = np.log(filing_level_df['num_clients'] + 1) ## Added +1 to avoid inf"
   ]
  },
  {
   "cell_type": "markdown",
   "metadata": {},
   "source": [
    "## Custom measures"
   ]
  },
  {
   "cell_type": "code",
   "execution_count": 60,
   "metadata": {},
   "outputs": [],
   "source": [
    "filing_level_df['ln_audit_fees'] = np.log(filing_level_df['filing_audit_fees'] + 1)"
   ]
  },
  {
   "cell_type": "markdown",
   "metadata": {},
   "source": [
    "### Auditor tenure"
   ]
  },
  {
   "cell_type": "code",
   "execution_count": 61,
   "metadata": {},
   "outputs": [],
   "source": [
    "tenure_df = raw_aa_opinions_df.copy()\n",
    "tenure_df = tenure_df.rename(columns={'fiscal_year_end_op': 'fiscal_year_end'})\n",
    "tenure_df = tenure_df.sort_values(['company_fkey', 'fiscal_year_end'])\n",
    "tenure_df['prev_auditor'] = tenure_df.groupby('company_fkey')['auditor_name'].shift(1)\n",
    "\n",
    "tenure_df = tenure_df[tenure_df.form_fkey == '10-K']"
   ]
  },
  {
   "cell_type": "markdown",
   "metadata": {},
   "source": [
    "Create an index that shows a company + auditor \"episode\":"
   ]
  },
  {
   "cell_type": "code",
   "execution_count": 62,
   "metadata": {
    "scrolled": true
   },
   "outputs": [
    {
     "data": {
      "application/vnd.jupyter.widget-view+json": {
       "model_id": "c802bfde0d494468a4d836c57d377993",
       "version_major": 2,
       "version_minor": 0
      },
      "text/plain": [
       "  0%|          | 0/145772 [00:00<?, ?it/s]"
      ]
     },
     "metadata": {},
     "output_type": "display_data"
    }
   ],
   "source": [
    "episode_tracker = 0\n",
    "prev_comp = ''\n",
    "episode_list = []\n",
    "for i, row in tqdm(tenure_df.iterrows(), total=len(tenure_df.index)):\n",
    "    if row['company_fkey'] != prev_comp:\n",
    "        prev_comp = row['company_fkey']\n",
    "        \n",
    "    if row['auditor_name'] == row['prev_auditor']:\n",
    "        episode_list.append(episode_tracker)\n",
    "        \n",
    "    else:\n",
    "        episode_tracker += 1\n",
    "        episode_list.append(episode_tracker)"
   ]
  },
  {
   "cell_type": "code",
   "execution_count": 63,
   "metadata": {},
   "outputs": [],
   "source": [
    "tenure_df['episode_id'] = episode_list"
   ]
  },
  {
   "cell_type": "markdown",
   "metadata": {},
   "source": [
    "Calculate tenure"
   ]
  },
  {
   "cell_type": "code",
   "execution_count": 64,
   "metadata": {},
   "outputs": [],
   "source": [
    "tenure_df['auditor_tenure'] = tenure_df.groupby('episode_id').cumcount() + 1"
   ]
  },
  {
   "cell_type": "markdown",
   "metadata": {},
   "source": [
    "Inspect to make sure it worked"
   ]
  },
  {
   "cell_type": "code",
   "execution_count": 65,
   "metadata": {},
   "outputs": [
    {
     "name": "stdout",
     "output_type": "stream",
     "text": [
      "64537\n"
     ]
    },
    {
     "data": {
      "text/html": [
       "<div>\n",
       "<style scoped>\n",
       "    .dataframe tbody tr th:only-of-type {\n",
       "        vertical-align: middle;\n",
       "    }\n",
       "\n",
       "    .dataframe tbody tr th {\n",
       "        vertical-align: top;\n",
       "    }\n",
       "\n",
       "    .dataframe thead th {\n",
       "        text-align: right;\n",
       "    }\n",
       "</style>\n",
       "<table border=\"1\" class=\"dataframe\">\n",
       "  <thead>\n",
       "    <tr style=\"text-align: right;\">\n",
       "      <th></th>\n",
       "      <th>company_fkey</th>\n",
       "      <th>fiscal_year_end</th>\n",
       "      <th>auditor_fkey</th>\n",
       "      <th>auditor_name</th>\n",
       "      <th>prev_auditor</th>\n",
       "      <th>episode_id</th>\n",
       "      <th>auditor_tenure</th>\n",
       "    </tr>\n",
       "  </thead>\n",
       "  <tbody>\n",
       "    <tr>\n",
       "      <th>125390</th>\n",
       "      <td>0000943897</td>\n",
       "      <td>2006-10-01</td>\n",
       "      <td>3.00</td>\n",
       "      <td>Deloitte &amp; Touche LLP</td>\n",
       "      <td>Deloitte &amp; Touche LLP</td>\n",
       "      <td>9211</td>\n",
       "      <td>10</td>\n",
       "    </tr>\n",
       "    <tr>\n",
       "      <th>125391</th>\n",
       "      <td>0000943897</td>\n",
       "      <td>2007-09-30</td>\n",
       "      <td>3.00</td>\n",
       "      <td>Deloitte &amp; Touche LLP</td>\n",
       "      <td>Deloitte &amp; Touche LLP</td>\n",
       "      <td>9211</td>\n",
       "      <td>11</td>\n",
       "    </tr>\n",
       "    <tr>\n",
       "      <th>125392</th>\n",
       "      <td>0000943897</td>\n",
       "      <td>2008-09-28</td>\n",
       "      <td>3.00</td>\n",
       "      <td>Deloitte &amp; Touche LLP</td>\n",
       "      <td>Deloitte &amp; Touche LLP</td>\n",
       "      <td>9211</td>\n",
       "      <td>12</td>\n",
       "    </tr>\n",
       "    <tr>\n",
       "      <th>125393</th>\n",
       "      <td>0000943897</td>\n",
       "      <td>2009-09-27</td>\n",
       "      <td>3.00</td>\n",
       "      <td>Deloitte &amp; Touche LLP</td>\n",
       "      <td>Deloitte &amp; Touche LLP</td>\n",
       "      <td>9211</td>\n",
       "      <td>13</td>\n",
       "    </tr>\n",
       "    <tr>\n",
       "      <th>125394</th>\n",
       "      <td>0000943904</td>\n",
       "      <td>2000-03-31</td>\n",
       "      <td>7.00</td>\n",
       "      <td>BDO Seidman LLP</td>\n",
       "      <td>NaN</td>\n",
       "      <td>9212</td>\n",
       "      <td>1</td>\n",
       "    </tr>\n",
       "    <tr>\n",
       "      <th>125395</th>\n",
       "      <td>0000943904</td>\n",
       "      <td>2001-03-31</td>\n",
       "      <td>7.00</td>\n",
       "      <td>BDO Seidman LLP</td>\n",
       "      <td>BDO Seidman LLP</td>\n",
       "      <td>9212</td>\n",
       "      <td>2</td>\n",
       "    </tr>\n",
       "    <tr>\n",
       "      <th>125396</th>\n",
       "      <td>0000943904</td>\n",
       "      <td>2002-03-31</td>\n",
       "      <td>7.00</td>\n",
       "      <td>BDO Seidman LLP</td>\n",
       "      <td>BDO Seidman LLP</td>\n",
       "      <td>9212</td>\n",
       "      <td>3</td>\n",
       "    </tr>\n",
       "    <tr>\n",
       "      <th>125397</th>\n",
       "      <td>0000943904</td>\n",
       "      <td>2003-03-31</td>\n",
       "      <td>7.00</td>\n",
       "      <td>BDO Seidman LLP</td>\n",
       "      <td>BDO Seidman LLP</td>\n",
       "      <td>9212</td>\n",
       "      <td>4</td>\n",
       "    </tr>\n",
       "    <tr>\n",
       "      <th>125398</th>\n",
       "      <td>0000943904</td>\n",
       "      <td>2004-03-31</td>\n",
       "      <td>1,798.00</td>\n",
       "      <td>Reznick Group PC</td>\n",
       "      <td>BDO Seidman LLP</td>\n",
       "      <td>9213</td>\n",
       "      <td>1</td>\n",
       "    </tr>\n",
       "    <tr>\n",
       "      <th>125399</th>\n",
       "      <td>0000943904</td>\n",
       "      <td>2005-03-31</td>\n",
       "      <td>1,798.00</td>\n",
       "      <td>Reznick Group PC</td>\n",
       "      <td>Reznick Group PC</td>\n",
       "      <td>9213</td>\n",
       "      <td>2</td>\n",
       "    </tr>\n",
       "    <tr>\n",
       "      <th>125400</th>\n",
       "      <td>0000943904</td>\n",
       "      <td>2006-03-31</td>\n",
       "      <td>1,798.00</td>\n",
       "      <td>Reznick Group PC</td>\n",
       "      <td>Reznick Group PC</td>\n",
       "      <td>9213</td>\n",
       "      <td>3</td>\n",
       "    </tr>\n",
       "    <tr>\n",
       "      <th>125401</th>\n",
       "      <td>0000943904</td>\n",
       "      <td>2007-03-31</td>\n",
       "      <td>1,798.00</td>\n",
       "      <td>Reznick Group PC</td>\n",
       "      <td>Reznick Group PC</td>\n",
       "      <td>9213</td>\n",
       "      <td>4</td>\n",
       "    </tr>\n",
       "    <tr>\n",
       "      <th>125322</th>\n",
       "      <td>0000943904</td>\n",
       "      <td>2008-03-31</td>\n",
       "      <td>1,798.00</td>\n",
       "      <td>Reznick Group PC</td>\n",
       "      <td>Reznick Group PC</td>\n",
       "      <td>9213</td>\n",
       "      <td>5</td>\n",
       "    </tr>\n",
       "    <tr>\n",
       "      <th>125327</th>\n",
       "      <td>0000943904</td>\n",
       "      <td>2009-03-31</td>\n",
       "      <td>1,798.00</td>\n",
       "      <td>Reznick Group PC</td>\n",
       "      <td>Reznick Group PC</td>\n",
       "      <td>9213</td>\n",
       "      <td>6</td>\n",
       "    </tr>\n",
       "    <tr>\n",
       "      <th>125332</th>\n",
       "      <td>0000943904</td>\n",
       "      <td>2010-03-31</td>\n",
       "      <td>1,798.00</td>\n",
       "      <td>Reznick Group PC</td>\n",
       "      <td>Reznick Group PC</td>\n",
       "      <td>9213</td>\n",
       "      <td>7</td>\n",
       "    </tr>\n",
       "  </tbody>\n",
       "</table>\n",
       "</div>"
      ],
      "text/plain": [
       "       company_fkey fiscal_year_end  auditor_fkey           auditor_name  \\\n",
       "125390   0000943897      2006-10-01          3.00  Deloitte & Touche LLP   \n",
       "125391   0000943897      2007-09-30          3.00  Deloitte & Touche LLP   \n",
       "125392   0000943897      2008-09-28          3.00  Deloitte & Touche LLP   \n",
       "125393   0000943897      2009-09-27          3.00  Deloitte & Touche LLP   \n",
       "125394   0000943904      2000-03-31          7.00        BDO Seidman LLP   \n",
       "125395   0000943904      2001-03-31          7.00        BDO Seidman LLP   \n",
       "125396   0000943904      2002-03-31          7.00        BDO Seidman LLP   \n",
       "125397   0000943904      2003-03-31          7.00        BDO Seidman LLP   \n",
       "125398   0000943904      2004-03-31      1,798.00       Reznick Group PC   \n",
       "125399   0000943904      2005-03-31      1,798.00       Reznick Group PC   \n",
       "125400   0000943904      2006-03-31      1,798.00       Reznick Group PC   \n",
       "125401   0000943904      2007-03-31      1,798.00       Reznick Group PC   \n",
       "125322   0000943904      2008-03-31      1,798.00       Reznick Group PC   \n",
       "125327   0000943904      2009-03-31      1,798.00       Reznick Group PC   \n",
       "125332   0000943904      2010-03-31      1,798.00       Reznick Group PC   \n",
       "\n",
       "                 prev_auditor  episode_id  auditor_tenure  \n",
       "125390  Deloitte & Touche LLP        9211              10  \n",
       "125391  Deloitte & Touche LLP        9211              11  \n",
       "125392  Deloitte & Touche LLP        9211              12  \n",
       "125393  Deloitte & Touche LLP        9211              13  \n",
       "125394                    NaN        9212               1  \n",
       "125395        BDO Seidman LLP        9212               2  \n",
       "125396        BDO Seidman LLP        9212               3  \n",
       "125397        BDO Seidman LLP        9212               4  \n",
       "125398        BDO Seidman LLP        9213               1  \n",
       "125399       Reznick Group PC        9213               2  \n",
       "125400       Reznick Group PC        9213               3  \n",
       "125401       Reznick Group PC        9213               4  \n",
       "125322       Reznick Group PC        9213               5  \n",
       "125327       Reznick Group PC        9213               6  \n",
       "125332       Reznick Group PC        9213               7  "
      ]
     },
     "execution_count": 65,
     "metadata": {},
     "output_type": "execute_result"
    }
   ],
   "source": [
    "num_obs = 15\n",
    "#rand_int = random.randint(0, len(tenure_df)-num_obs)\n",
    "rand_int = 64537 ## This index shows an auditor change. \n",
    "print(rand_int)\n",
    "col_to_show = ['company_fkey', 'fiscal_year_end', 'auditor_fkey', 'auditor_name', 'prev_auditor', 'episode_id', 'auditor_tenure']\n",
    "tenure_df.iloc[rand_int:rand_int+num_obs][col_to_show]"
   ]
  },
  {
   "cell_type": "markdown",
   "metadata": {},
   "source": [
    "### Multiple auditor issue\n",
    "\n",
    "A filing can have more than one auditor in very rare cases. I drop these from the sample"
   ]
  },
  {
   "cell_type": "code",
   "execution_count": 66,
   "metadata": {},
   "outputs": [
    {
     "data": {
      "text/plain": [
       "1    145716\n",
       "2        28\n",
       "dtype: int64"
      ]
     },
     "execution_count": 66,
     "metadata": {},
     "output_type": "execute_result"
    }
   ],
   "source": [
    "problem_df = tenure_df.groupby(['company_fkey', 'fiscal_year_end']).size().sort_values()\n",
    "problem_df.value_counts()"
   ]
  },
  {
   "cell_type": "code",
   "execution_count": 67,
   "metadata": {},
   "outputs": [
    {
     "data": {
      "text/html": [
       "<div>\n",
       "<style scoped>\n",
       "    .dataframe tbody tr th:only-of-type {\n",
       "        vertical-align: middle;\n",
       "    }\n",
       "\n",
       "    .dataframe tbody tr th {\n",
       "        vertical-align: top;\n",
       "    }\n",
       "\n",
       "    .dataframe thead th {\n",
       "        text-align: right;\n",
       "    }\n",
       "</style>\n",
       "<table border=\"1\" class=\"dataframe\">\n",
       "  <thead>\n",
       "    <tr style=\"text-align: right;\">\n",
       "      <th></th>\n",
       "      <th>company_fkey</th>\n",
       "      <th>fiscal_year_end</th>\n",
       "      <th>bad</th>\n",
       "    </tr>\n",
       "  </thead>\n",
       "  <tbody>\n",
       "    <tr>\n",
       "      <th>0</th>\n",
       "      <td>0000744218</td>\n",
       "      <td>2007-12-31</td>\n",
       "      <td>True</td>\n",
       "    </tr>\n",
       "    <tr>\n",
       "      <th>1</th>\n",
       "      <td>0001108967</td>\n",
       "      <td>2013-12-31</td>\n",
       "      <td>True</td>\n",
       "    </tr>\n",
       "    <tr>\n",
       "      <th>2</th>\n",
       "      <td>0000880259</td>\n",
       "      <td>1999-12-31</td>\n",
       "      <td>True</td>\n",
       "    </tr>\n",
       "    <tr>\n",
       "      <th>3</th>\n",
       "      <td>0000715579</td>\n",
       "      <td>2012-12-31</td>\n",
       "      <td>True</td>\n",
       "    </tr>\n",
       "    <tr>\n",
       "      <th>4</th>\n",
       "      <td>0001085706</td>\n",
       "      <td>2012-12-31</td>\n",
       "      <td>True</td>\n",
       "    </tr>\n",
       "    <tr>\n",
       "      <th>5</th>\n",
       "      <td>0001013455</td>\n",
       "      <td>1999-12-31</td>\n",
       "      <td>True</td>\n",
       "    </tr>\n",
       "    <tr>\n",
       "      <th>6</th>\n",
       "      <td>0001506401</td>\n",
       "      <td>2014-12-31</td>\n",
       "      <td>True</td>\n",
       "    </tr>\n",
       "    <tr>\n",
       "      <th>7</th>\n",
       "      <td>0001427352</td>\n",
       "      <td>2008-12-31</td>\n",
       "      <td>True</td>\n",
       "    </tr>\n",
       "    <tr>\n",
       "      <th>8</th>\n",
       "      <td>0001326396</td>\n",
       "      <td>2009-12-31</td>\n",
       "      <td>True</td>\n",
       "    </tr>\n",
       "    <tr>\n",
       "      <th>9</th>\n",
       "      <td>0000868271</td>\n",
       "      <td>2013-12-31</td>\n",
       "      <td>True</td>\n",
       "    </tr>\n",
       "    <tr>\n",
       "      <th>10</th>\n",
       "      <td>0000744962</td>\n",
       "      <td>2002-06-30</td>\n",
       "      <td>True</td>\n",
       "    </tr>\n",
       "    <tr>\n",
       "      <th>11</th>\n",
       "      <td>0001027235</td>\n",
       "      <td>2011-12-31</td>\n",
       "      <td>True</td>\n",
       "    </tr>\n",
       "    <tr>\n",
       "      <th>12</th>\n",
       "      <td>0001313938</td>\n",
       "      <td>2012-08-31</td>\n",
       "      <td>True</td>\n",
       "    </tr>\n",
       "    <tr>\n",
       "      <th>13</th>\n",
       "      <td>0001078003</td>\n",
       "      <td>1999-12-31</td>\n",
       "      <td>True</td>\n",
       "    </tr>\n",
       "    <tr>\n",
       "      <th>14</th>\n",
       "      <td>0000796226</td>\n",
       "      <td>2000-01-01</td>\n",
       "      <td>True</td>\n",
       "    </tr>\n",
       "    <tr>\n",
       "      <th>15</th>\n",
       "      <td>0001171008</td>\n",
       "      <td>2013-12-31</td>\n",
       "      <td>True</td>\n",
       "    </tr>\n",
       "    <tr>\n",
       "      <th>16</th>\n",
       "      <td>0000043350</td>\n",
       "      <td>2012-12-31</td>\n",
       "      <td>True</td>\n",
       "    </tr>\n",
       "    <tr>\n",
       "      <th>17</th>\n",
       "      <td>0000829323</td>\n",
       "      <td>2009-12-31</td>\n",
       "      <td>True</td>\n",
       "    </tr>\n",
       "    <tr>\n",
       "      <th>18</th>\n",
       "      <td>0001574815</td>\n",
       "      <td>2014-12-31</td>\n",
       "      <td>True</td>\n",
       "    </tr>\n",
       "    <tr>\n",
       "      <th>19</th>\n",
       "      <td>0001497647</td>\n",
       "      <td>2011-12-31</td>\n",
       "      <td>True</td>\n",
       "    </tr>\n",
       "    <tr>\n",
       "      <th>20</th>\n",
       "      <td>0000872912</td>\n",
       "      <td>2009-12-31</td>\n",
       "      <td>True</td>\n",
       "    </tr>\n",
       "    <tr>\n",
       "      <th>21</th>\n",
       "      <td>0001488813</td>\n",
       "      <td>2012-12-31</td>\n",
       "      <td>True</td>\n",
       "    </tr>\n",
       "    <tr>\n",
       "      <th>22</th>\n",
       "      <td>0001610466</td>\n",
       "      <td>2015-12-31</td>\n",
       "      <td>True</td>\n",
       "    </tr>\n",
       "    <tr>\n",
       "      <th>23</th>\n",
       "      <td>0001038773</td>\n",
       "      <td>1999-12-31</td>\n",
       "      <td>True</td>\n",
       "    </tr>\n",
       "    <tr>\n",
       "      <th>24</th>\n",
       "      <td>0000831489</td>\n",
       "      <td>2014-12-31</td>\n",
       "      <td>True</td>\n",
       "    </tr>\n",
       "    <tr>\n",
       "      <th>25</th>\n",
       "      <td>0001304741</td>\n",
       "      <td>2016-07-31</td>\n",
       "      <td>True</td>\n",
       "    </tr>\n",
       "    <tr>\n",
       "      <th>26</th>\n",
       "      <td>0001550603</td>\n",
       "      <td>2012-09-30</td>\n",
       "      <td>True</td>\n",
       "    </tr>\n",
       "    <tr>\n",
       "      <th>27</th>\n",
       "      <td>0000712771</td>\n",
       "      <td>2012-12-31</td>\n",
       "      <td>True</td>\n",
       "    </tr>\n",
       "  </tbody>\n",
       "</table>\n",
       "</div>"
      ],
      "text/plain": [
       "   company_fkey fiscal_year_end   bad\n",
       "0    0000744218      2007-12-31  True\n",
       "1    0001108967      2013-12-31  True\n",
       "2    0000880259      1999-12-31  True\n",
       "3    0000715579      2012-12-31  True\n",
       "4    0001085706      2012-12-31  True\n",
       "5    0001013455      1999-12-31  True\n",
       "6    0001506401      2014-12-31  True\n",
       "7    0001427352      2008-12-31  True\n",
       "8    0001326396      2009-12-31  True\n",
       "9    0000868271      2013-12-31  True\n",
       "10   0000744962      2002-06-30  True\n",
       "11   0001027235      2011-12-31  True\n",
       "12   0001313938      2012-08-31  True\n",
       "13   0001078003      1999-12-31  True\n",
       "14   0000796226      2000-01-01  True\n",
       "15   0001171008      2013-12-31  True\n",
       "16   0000043350      2012-12-31  True\n",
       "17   0000829323      2009-12-31  True\n",
       "18   0001574815      2014-12-31  True\n",
       "19   0001497647      2011-12-31  True\n",
       "20   0000872912      2009-12-31  True\n",
       "21   0001488813      2012-12-31  True\n",
       "22   0001610466      2015-12-31  True\n",
       "23   0001038773      1999-12-31  True\n",
       "24   0000831489      2014-12-31  True\n",
       "25   0001304741      2016-07-31  True\n",
       "26   0001550603      2012-09-30  True\n",
       "27   0000712771      2012-12-31  True"
      ]
     },
     "execution_count": 67,
     "metadata": {},
     "output_type": "execute_result"
    }
   ],
   "source": [
    "problem_df = problem_df[problem_df > 1].reset_index().drop(0, axis=1)\n",
    "problem_df['bad'] = True\n",
    "\n",
    "problem_df"
   ]
  },
  {
   "cell_type": "code",
   "execution_count": 68,
   "metadata": {},
   "outputs": [],
   "source": [
    "tenure_df = pd.merge(tenure_df, problem_df, on=['company_fkey', 'fiscal_year_end'], how='left')"
   ]
  },
  {
   "cell_type": "code",
   "execution_count": 69,
   "metadata": {},
   "outputs": [
    {
     "data": {
      "text/plain": [
       "True    56\n",
       "Name: bad, dtype: int64"
      ]
     },
     "execution_count": 69,
     "metadata": {},
     "output_type": "execute_result"
    }
   ],
   "source": [
    "tenure_df['bad'].value_counts()"
   ]
  },
  {
   "cell_type": "code",
   "execution_count": 70,
   "metadata": {},
   "outputs": [],
   "source": [
    "tenure_df = tenure_df[pd.isna(tenure_df['bad'])]\n",
    "tenure_df = tenure_df.drop('bad', axis=1)"
   ]
  },
  {
   "cell_type": "markdown",
   "metadata": {},
   "source": [
    "Add tenure variable back to the dataset"
   ]
  },
  {
   "cell_type": "code",
   "execution_count": 71,
   "metadata": {},
   "outputs": [],
   "source": [
    "tenure_df_slim = tenure_df[['company_fkey', 'fiscal_year_end', 'auditor_tenure']].drop_duplicates()"
   ]
  },
  {
   "cell_type": "code",
   "execution_count": 72,
   "metadata": {},
   "outputs": [],
   "source": [
    "merge_df = pd.merge(filing_level_df, tenure_df_slim , on=['company_fkey', 'fiscal_year_end'], how='left')\n",
    "assert len(merge_df) == len(filing_level_df), 'Warning, the number of observations changed whereas it should not!'\n",
    "filing_level_df = merge_df"
   ]
  },
  {
   "cell_type": "markdown",
   "metadata": {},
   "source": [
    "### New auditor variables"
   ]
  },
  {
   "cell_type": "markdown",
   "metadata": {},
   "source": [
    "Auditor level"
   ]
  },
  {
   "cell_type": "code",
   "execution_count": 73,
   "metadata": {},
   "outputs": [],
   "source": [
    "filing_level_df['new_auditor'] = (filing_level_df['auditor_tenure'] == 1)**1"
   ]
  },
  {
   "cell_type": "markdown",
   "metadata": {},
   "source": [
    "Office level"
   ]
  },
  {
   "cell_type": "code",
   "execution_count": 74,
   "metadata": {},
   "outputs": [],
   "source": [
    "filing_level_df = filing_level_df.sort_values(['company_fkey', 'fiscal_year_end'])\n",
    "\n",
    "filing_level_df['prev_auditor_office_id'] = filing_level_df.groupby('company_fkey')['auditor_office_id'].shift(1)\n",
    "\n",
    "filing_level_df['new_auditor_office'] = ((filing_level_df['auditor_office_id'] != filing_level_df['prev_auditor_office_id']) & pd.notna(filing_level_df['prev_auditor_office_id']))**1\n",
    "filing_level_df['new_auditor_office'] = filing_level_df.apply(lambda x: 1 if x['new_auditor'] == 1 else x['new_auditor_office'], axis=1)"
   ]
  },
  {
   "cell_type": "code",
   "execution_count": 75,
   "metadata": {},
   "outputs": [],
   "source": [
    "filing_level_df = filing_level_df.drop('prev_auditor_office_id', axis=1, errors='ignore')"
   ]
  },
  {
   "cell_type": "markdown",
   "metadata": {},
   "source": [
    "-----\n",
    "## Summary statistics"
   ]
  },
  {
   "cell_type": "code",
   "execution_count": 76,
   "metadata": {
    "scrolled": false
   },
   "outputs": [
    {
     "data": {
      "text/html": [
       "<div>\n",
       "<style scoped>\n",
       "    .dataframe tbody tr th:only-of-type {\n",
       "        vertical-align: middle;\n",
       "    }\n",
       "\n",
       "    .dataframe tbody tr th {\n",
       "        vertical-align: top;\n",
       "    }\n",
       "\n",
       "    .dataframe thead th {\n",
       "        text-align: right;\n",
       "    }\n",
       "</style>\n",
       "<table border=\"1\" class=\"dataframe\">\n",
       "  <thead>\n",
       "    <tr style=\"text-align: right;\">\n",
       "      <th></th>\n",
       "      <th>count</th>\n",
       "      <th>mean</th>\n",
       "      <th>std</th>\n",
       "      <th>min</th>\n",
       "      <th>25%</th>\n",
       "      <th>50%</th>\n",
       "      <th>75%</th>\n",
       "      <th>max</th>\n",
       "    </tr>\n",
       "  </thead>\n",
       "  <tbody>\n",
       "    <tr>\n",
       "      <th>choi_ofsize1</th>\n",
       "      <td>16,446.00</td>\n",
       "      <td>39.38</td>\n",
       "      <td>55.85</td>\n",
       "      <td>0.00</td>\n",
       "      <td>6.00</td>\n",
       "      <td>17.00</td>\n",
       "      <td>46.00</td>\n",
       "      <td>288.00</td>\n",
       "    </tr>\n",
       "    <tr>\n",
       "      <th>choi_ofsize2</th>\n",
       "      <td>16,446.00</td>\n",
       "      <td>64,647,373.39</td>\n",
       "      <td>110,166,000.70</td>\n",
       "      <td>0.00</td>\n",
       "      <td>1,913,216.75</td>\n",
       "      <td>13,310,547.50</td>\n",
       "      <td>87,387,275.00</td>\n",
       "      <td>677,156,037.00</td>\n",
       "    </tr>\n",
       "    <tr>\n",
       "      <th>choi_large_office_by_clients</th>\n",
       "      <td>16,446.00</td>\n",
       "      <td>0.88</td>\n",
       "      <td>0.32</td>\n",
       "      <td>0.00</td>\n",
       "      <td>1.00</td>\n",
       "      <td>1.00</td>\n",
       "      <td>1.00</td>\n",
       "      <td>1.00</td>\n",
       "    </tr>\n",
       "    <tr>\n",
       "      <th>choi_large_office_by_fees</th>\n",
       "      <td>16,446.00</td>\n",
       "      <td>0.80</td>\n",
       "      <td>0.40</td>\n",
       "      <td>0.00</td>\n",
       "      <td>1.00</td>\n",
       "      <td>1.00</td>\n",
       "      <td>1.00</td>\n",
       "      <td>1.00</td>\n",
       "    </tr>\n",
       "    <tr>\n",
       "      <th>beck_ln_office_size</th>\n",
       "      <td>16,446.00</td>\n",
       "      <td>16.36</td>\n",
       "      <td>2.25</td>\n",
       "      <td>8.16</td>\n",
       "      <td>14.63</td>\n",
       "      <td>16.56</td>\n",
       "      <td>18.34</td>\n",
       "      <td>20.33</td>\n",
       "    </tr>\n",
       "    <tr>\n",
       "      <th>beck_large_office</th>\n",
       "      <td>8,732.00</td>\n",
       "      <td>0.39</td>\n",
       "      <td>0.49</td>\n",
       "      <td>0.00</td>\n",
       "      <td>0.00</td>\n",
       "      <td>0.00</td>\n",
       "      <td>1.00</td>\n",
       "      <td>1.00</td>\n",
       "    </tr>\n",
       "    <tr>\n",
       "      <th>ege_ln_office_size</th>\n",
       "      <td>16,446.00</td>\n",
       "      <td>2.99</td>\n",
       "      <td>1.22</td>\n",
       "      <td>0.69</td>\n",
       "      <td>2.08</td>\n",
       "      <td>2.94</td>\n",
       "      <td>3.87</td>\n",
       "      <td>5.67</td>\n",
       "    </tr>\n",
       "    <tr>\n",
       "      <th>is_big_4</th>\n",
       "      <td>16,446.00</td>\n",
       "      <td>0.53</td>\n",
       "      <td>0.50</td>\n",
       "      <td>0.00</td>\n",
       "      <td>0.00</td>\n",
       "      <td>1.00</td>\n",
       "      <td>1.00</td>\n",
       "      <td>1.00</td>\n",
       "    </tr>\n",
       "    <tr>\n",
       "      <th>ln_audit_fees</th>\n",
       "      <td>16,446.00</td>\n",
       "      <td>13.26</td>\n",
       "      <td>1.86</td>\n",
       "      <td>0.00</td>\n",
       "      <td>12.02</td>\n",
       "      <td>13.53</td>\n",
       "      <td>14.58</td>\n",
       "      <td>18.14</td>\n",
       "    </tr>\n",
       "    <tr>\n",
       "      <th>auditor_tenure</th>\n",
       "      <td>16,446.00</td>\n",
       "      <td>10.33</td>\n",
       "      <td>8.48</td>\n",
       "      <td>1.00</td>\n",
       "      <td>3.00</td>\n",
       "      <td>8.00</td>\n",
       "      <td>17.00</td>\n",
       "      <td>65.00</td>\n",
       "    </tr>\n",
       "    <tr>\n",
       "      <th>new_auditor</th>\n",
       "      <td>16,446.00</td>\n",
       "      <td>0.09</td>\n",
       "      <td>0.29</td>\n",
       "      <td>0.00</td>\n",
       "      <td>0.00</td>\n",
       "      <td>0.00</td>\n",
       "      <td>0.00</td>\n",
       "      <td>1.00</td>\n",
       "    </tr>\n",
       "    <tr>\n",
       "      <th>new_auditor_office</th>\n",
       "      <td>16,446.00</td>\n",
       "      <td>0.12</td>\n",
       "      <td>0.32</td>\n",
       "      <td>0.00</td>\n",
       "      <td>0.00</td>\n",
       "      <td>0.00</td>\n",
       "      <td>0.00</td>\n",
       "      <td>1.00</td>\n",
       "    </tr>\n",
       "  </tbody>\n",
       "</table>\n",
       "</div>"
      ],
      "text/plain": [
       "                                 count          mean            std  min  \\\n",
       "choi_ofsize1                 16,446.00         39.38          55.85 0.00   \n",
       "choi_ofsize2                 16,446.00 64,647,373.39 110,166,000.70 0.00   \n",
       "choi_large_office_by_clients 16,446.00          0.88           0.32 0.00   \n",
       "choi_large_office_by_fees    16,446.00          0.80           0.40 0.00   \n",
       "beck_ln_office_size          16,446.00         16.36           2.25 8.16   \n",
       "beck_large_office             8,732.00          0.39           0.49 0.00   \n",
       "ege_ln_office_size           16,446.00          2.99           1.22 0.69   \n",
       "is_big_4                     16,446.00          0.53           0.50 0.00   \n",
       "ln_audit_fees                16,446.00         13.26           1.86 0.00   \n",
       "auditor_tenure               16,446.00         10.33           8.48 1.00   \n",
       "new_auditor                  16,446.00          0.09           0.29 0.00   \n",
       "new_auditor_office           16,446.00          0.12           0.32 0.00   \n",
       "\n",
       "                                      25%           50%           75%  \\\n",
       "choi_ofsize1                         6.00         17.00         46.00   \n",
       "choi_ofsize2                 1,913,216.75 13,310,547.50 87,387,275.00   \n",
       "choi_large_office_by_clients         1.00          1.00          1.00   \n",
       "choi_large_office_by_fees            1.00          1.00          1.00   \n",
       "beck_ln_office_size                 14.63         16.56         18.34   \n",
       "beck_large_office                    0.00          0.00          1.00   \n",
       "ege_ln_office_size                   2.08          2.94          3.87   \n",
       "is_big_4                             0.00          1.00          1.00   \n",
       "ln_audit_fees                       12.02         13.53         14.58   \n",
       "auditor_tenure                       3.00          8.00         17.00   \n",
       "new_auditor                          0.00          0.00          0.00   \n",
       "new_auditor_office                   0.00          0.00          0.00   \n",
       "\n",
       "                                        max  \n",
       "choi_ofsize1                         288.00  \n",
       "choi_ofsize2                 677,156,037.00  \n",
       "choi_large_office_by_clients           1.00  \n",
       "choi_large_office_by_fees              1.00  \n",
       "beck_ln_office_size                   20.33  \n",
       "beck_large_office                      1.00  \n",
       "ege_ln_office_size                     5.67  \n",
       "is_big_4                               1.00  \n",
       "ln_audit_fees                         18.14  \n",
       "auditor_tenure                        65.00  \n",
       "new_auditor                            1.00  \n",
       "new_auditor_office                     1.00  "
      ]
     },
     "execution_count": 76,
     "metadata": {},
     "output_type": "execute_result"
    }
   ],
   "source": [
    "filing_level_df[[\n",
    "    'choi_ofsize1', 'choi_ofsize2', 'choi_large_office_by_clients', 'choi_large_office_by_fees',\n",
    "    'beck_ln_office_size', 'beck_large_office',\n",
    "    'ege_ln_office_size',\n",
    "    'is_big_4', 'ln_audit_fees', 'auditor_tenure', 'new_auditor', 'new_auditor_office'\n",
    "]].describe().T"
   ]
  },
  {
   "cell_type": "code",
   "execution_count": 77,
   "metadata": {
    "scrolled": false
   },
   "outputs": [
    {
     "data": {
      "text/html": [
       "<div>\n",
       "<style scoped>\n",
       "    .dataframe tbody tr th:only-of-type {\n",
       "        vertical-align: middle;\n",
       "    }\n",
       "\n",
       "    .dataframe tbody tr th {\n",
       "        vertical-align: top;\n",
       "    }\n",
       "\n",
       "    .dataframe thead th {\n",
       "        text-align: right;\n",
       "    }\n",
       "</style>\n",
       "<table border=\"1\" class=\"dataframe\">\n",
       "  <thead>\n",
       "    <tr style=\"text-align: right;\">\n",
       "      <th></th>\n",
       "      <th>count</th>\n",
       "      <th>mean</th>\n",
       "      <th>std</th>\n",
       "      <th>min</th>\n",
       "      <th>25%</th>\n",
       "      <th>50%</th>\n",
       "      <th>75%</th>\n",
       "      <th>max</th>\n",
       "    </tr>\n",
       "  </thead>\n",
       "  <tbody>\n",
       "    <tr>\n",
       "      <th>choi_ofsize1</th>\n",
       "      <td>5,385.00</td>\n",
       "      <td>40.66</td>\n",
       "      <td>58.92</td>\n",
       "      <td>0.00</td>\n",
       "      <td>6.00</td>\n",
       "      <td>17.00</td>\n",
       "      <td>47.00</td>\n",
       "      <td>284.00</td>\n",
       "    </tr>\n",
       "    <tr>\n",
       "      <th>choi_ofsize2</th>\n",
       "      <td>5,385.00</td>\n",
       "      <td>66,193,721.26</td>\n",
       "      <td>111,091,079.79</td>\n",
       "      <td>0.00</td>\n",
       "      <td>1,974,613.00</td>\n",
       "      <td>15,357,876.00</td>\n",
       "      <td>90,827,308.00</td>\n",
       "      <td>670,317,301.00</td>\n",
       "    </tr>\n",
       "    <tr>\n",
       "      <th>choi_large_office_by_clients</th>\n",
       "      <td>5,385.00</td>\n",
       "      <td>0.88</td>\n",
       "      <td>0.32</td>\n",
       "      <td>0.00</td>\n",
       "      <td>1.00</td>\n",
       "      <td>1.00</td>\n",
       "      <td>1.00</td>\n",
       "      <td>1.00</td>\n",
       "    </tr>\n",
       "    <tr>\n",
       "      <th>choi_large_office_by_fees</th>\n",
       "      <td>5,385.00</td>\n",
       "      <td>0.80</td>\n",
       "      <td>0.40</td>\n",
       "      <td>0.00</td>\n",
       "      <td>1.00</td>\n",
       "      <td>1.00</td>\n",
       "      <td>1.00</td>\n",
       "      <td>1.00</td>\n",
       "    </tr>\n",
       "    <tr>\n",
       "      <th>beck_ln_office_size</th>\n",
       "      <td>5,385.00</td>\n",
       "      <td>16.43</td>\n",
       "      <td>2.23</td>\n",
       "      <td>8.34</td>\n",
       "      <td>14.75</td>\n",
       "      <td>16.69</td>\n",
       "      <td>18.34</td>\n",
       "      <td>20.32</td>\n",
       "    </tr>\n",
       "    <tr>\n",
       "      <th>beck_large_office</th>\n",
       "      <td>2,912.00</td>\n",
       "      <td>0.40</td>\n",
       "      <td>0.49</td>\n",
       "      <td>0.00</td>\n",
       "      <td>0.00</td>\n",
       "      <td>0.00</td>\n",
       "      <td>1.00</td>\n",
       "      <td>1.00</td>\n",
       "    </tr>\n",
       "    <tr>\n",
       "      <th>ege_ln_office_size</th>\n",
       "      <td>5,385.00</td>\n",
       "      <td>2.99</td>\n",
       "      <td>1.24</td>\n",
       "      <td>0.69</td>\n",
       "      <td>2.08</td>\n",
       "      <td>2.94</td>\n",
       "      <td>3.89</td>\n",
       "      <td>5.66</td>\n",
       "    </tr>\n",
       "    <tr>\n",
       "      <th>is_big_4</th>\n",
       "      <td>5,385.00</td>\n",
       "      <td>0.54</td>\n",
       "      <td>0.50</td>\n",
       "      <td>0.00</td>\n",
       "      <td>0.00</td>\n",
       "      <td>1.00</td>\n",
       "      <td>1.00</td>\n",
       "      <td>1.00</td>\n",
       "    </tr>\n",
       "    <tr>\n",
       "      <th>ln_audit_fees</th>\n",
       "      <td>5,385.00</td>\n",
       "      <td>13.32</td>\n",
       "      <td>1.82</td>\n",
       "      <td>0.00</td>\n",
       "      <td>12.13</td>\n",
       "      <td>13.59</td>\n",
       "      <td>14.60</td>\n",
       "      <td>18.13</td>\n",
       "    </tr>\n",
       "    <tr>\n",
       "      <th>auditor_tenure</th>\n",
       "      <td>5,385.00</td>\n",
       "      <td>10.65</td>\n",
       "      <td>8.69</td>\n",
       "      <td>1.00</td>\n",
       "      <td>3.00</td>\n",
       "      <td>8.00</td>\n",
       "      <td>17.00</td>\n",
       "      <td>65.00</td>\n",
       "    </tr>\n",
       "    <tr>\n",
       "      <th>new_auditor</th>\n",
       "      <td>5,385.00</td>\n",
       "      <td>0.09</td>\n",
       "      <td>0.28</td>\n",
       "      <td>0.00</td>\n",
       "      <td>0.00</td>\n",
       "      <td>0.00</td>\n",
       "      <td>0.00</td>\n",
       "      <td>1.00</td>\n",
       "    </tr>\n",
       "    <tr>\n",
       "      <th>new_auditor_office</th>\n",
       "      <td>5,385.00</td>\n",
       "      <td>0.13</td>\n",
       "      <td>0.33</td>\n",
       "      <td>0.00</td>\n",
       "      <td>0.00</td>\n",
       "      <td>0.00</td>\n",
       "      <td>0.00</td>\n",
       "      <td>1.00</td>\n",
       "    </tr>\n",
       "  </tbody>\n",
       "</table>\n",
       "</div>"
      ],
      "text/plain": [
       "                                count          mean            std  min  \\\n",
       "choi_ofsize1                 5,385.00         40.66          58.92 0.00   \n",
       "choi_ofsize2                 5,385.00 66,193,721.26 111,091,079.79 0.00   \n",
       "choi_large_office_by_clients 5,385.00          0.88           0.32 0.00   \n",
       "choi_large_office_by_fees    5,385.00          0.80           0.40 0.00   \n",
       "beck_ln_office_size          5,385.00         16.43           2.23 8.34   \n",
       "beck_large_office            2,912.00          0.40           0.49 0.00   \n",
       "ege_ln_office_size           5,385.00          2.99           1.24 0.69   \n",
       "is_big_4                     5,385.00          0.54           0.50 0.00   \n",
       "ln_audit_fees                5,385.00         13.32           1.82 0.00   \n",
       "auditor_tenure               5,385.00         10.65           8.69 1.00   \n",
       "new_auditor                  5,385.00          0.09           0.28 0.00   \n",
       "new_auditor_office           5,385.00          0.13           0.33 0.00   \n",
       "\n",
       "                                      25%           50%           75%  \\\n",
       "choi_ofsize1                         6.00         17.00         47.00   \n",
       "choi_ofsize2                 1,974,613.00 15,357,876.00 90,827,308.00   \n",
       "choi_large_office_by_clients         1.00          1.00          1.00   \n",
       "choi_large_office_by_fees            1.00          1.00          1.00   \n",
       "beck_ln_office_size                 14.75         16.69         18.34   \n",
       "beck_large_office                    0.00          0.00          1.00   \n",
       "ege_ln_office_size                   2.08          2.94          3.89   \n",
       "is_big_4                             0.00          1.00          1.00   \n",
       "ln_audit_fees                       12.13         13.59         14.60   \n",
       "auditor_tenure                       3.00          8.00         17.00   \n",
       "new_auditor                          0.00          0.00          0.00   \n",
       "new_auditor_office                   0.00          0.00          0.00   \n",
       "\n",
       "                                        max  \n",
       "choi_ofsize1                         284.00  \n",
       "choi_ofsize2                 670,317,301.00  \n",
       "choi_large_office_by_clients           1.00  \n",
       "choi_large_office_by_fees              1.00  \n",
       "beck_ln_office_size                   20.32  \n",
       "beck_large_office                      1.00  \n",
       "ege_ln_office_size                     5.66  \n",
       "is_big_4                               1.00  \n",
       "ln_audit_fees                         18.13  \n",
       "auditor_tenure                        65.00  \n",
       "new_auditor                            1.00  \n",
       "new_auditor_office                     1.00  "
      ]
     },
     "execution_count": 77,
     "metadata": {},
     "output_type": "execute_result"
    }
   ],
   "source": [
    "filing_level_df[filing_level_df.fiscal_year == 2020][[\n",
    "    'choi_ofsize1', 'choi_ofsize2', 'choi_large_office_by_clients', 'choi_large_office_by_fees',\n",
    "    'beck_ln_office_size', 'beck_large_office',\n",
    "    'ege_ln_office_size',\n",
    "    'is_big_4', 'ln_audit_fees', 'auditor_tenure', 'new_auditor', 'new_auditor_office'\n",
    "]].describe().T"
   ]
  },
  {
   "cell_type": "markdown",
   "metadata": {},
   "source": [
    "## Store dataset"
   ]
  },
  {
   "cell_type": "markdown",
   "metadata": {},
   "source": [
    "### Stata"
   ]
  },
  {
   "cell_type": "code",
   "execution_count": 78,
   "metadata": {},
   "outputs": [],
   "source": [
    "filing_level_df.to_stata(pipeline / 'out' / 'auditor_variables.dta', write_index = False)"
   ]
  },
  {
   "cell_type": "markdown",
   "metadata": {},
   "source": [
    "### Excel"
   ]
  },
  {
   "cell_type": "code",
   "execution_count": 6,
   "metadata": {},
   "outputs": [],
   "source": [
    "filing_level_df.to_excel(pipeline / 'out' / 'auditor_variables.xlsx', index=False)"
   ]
  }
 ],
 "metadata": {
  "kernelspec": {
   "display_name": "Python 3 (ipykernel)",
   "language": "python",
   "name": "python3"
  },
  "language_info": {
   "codemirror_mode": {
    "name": "ipython",
    "version": 3
   },
   "file_extension": ".py",
   "mimetype": "text/x-python",
   "name": "python",
   "nbconvert_exporter": "python",
   "pygments_lexer": "ipython3",
   "version": "3.9.6"
  },
  "toc": {
   "colors": {
    "hover_highlight": "#DAA520",
    "running_highlight": "#FF0000",
    "selected_highlight": "#FFD700"
   },
   "moveMenuLeft": true,
   "nav_menu": {
    "height": "138px",
    "width": "252px"
   },
   "navigate_menu": true,
   "number_sections": false,
   "sideBar": true,
   "threshold": 4,
   "toc_cell": false,
   "toc_section_display": "block",
   "toc_window_display": false
  }
 },
 "nbformat": 4,
 "nbformat_minor": 1
}
