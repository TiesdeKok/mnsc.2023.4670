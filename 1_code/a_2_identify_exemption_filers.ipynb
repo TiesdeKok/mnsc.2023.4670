{
 "cells": [
  {
   "cell_type": "markdown",
   "metadata": {},
   "source": [
    "# Preamble"
   ]
  },
  {
   "cell_type": "code",
   "execution_count": 1,
   "metadata": {},
   "outputs": [],
   "source": [
    "%matplotlib notebook"
   ]
  },
  {
   "cell_type": "markdown",
   "metadata": {},
   "source": [
    "## Notebook parameters"
   ]
  },
  {
   "cell_type": "code",
   "execution_count": 2,
   "metadata": {},
   "outputs": [],
   "source": [
    "NAME = 'a_2_identify_exemption_filers'\n",
    "PROJECT = 'covid-empirical'\n",
    "PYTHON_VERSION = '3.9'\n",
    "USER = 'Ties'\n",
    "CONDA_ENVIRONMENT = 'covid-empirical'\n",
    "USE_EXTERNAL_PIPELINE = True"
   ]
  },
  {
   "cell_type": "markdown",
   "metadata": {},
   "source": [
    "## Run preamble script"
   ]
  },
  {
   "cell_type": "code",
   "execution_count": 3,
   "metadata": {},
   "outputs": [
    {
     "name": "stdout",
     "output_type": "stream",
     "text": [
      "----------------------------------------------------------------------------------\n",
      "The following utility functions are loaded and available through `functions.<..>`:\n",
      "----------------------------------------------------------------------------------\n",
      "\n",
      "extract_data_edgar_link, fast_load_json, fast_store_json, flatten_multiindex_column, inDB, recreate_edgar_link\n",
      "\n",
      "----------------------------------------------------------------\n",
      "The following modules and functions are imported by preamble.py:\n",
      "----------------------------------------------------------------\n",
      "\n",
      "copy, delayed, importlib, json, math, np, orjson, os, pd, plt, pqdm_p, pqdm_t, random, re, requests, sys, time, yaml\n"
     ]
    }
   ],
   "source": [
    "%run -i preamble.py "
   ]
  },
  {
   "cell_type": "markdown",
   "metadata": {},
   "source": [
    "## Notebook specific imports"
   ]
  },
  {
   "cell_type": "code",
   "execution_count": 4,
   "metadata": {},
   "outputs": [],
   "source": [
    "## None"
   ]
  },
  {
   "cell_type": "markdown",
   "metadata": {},
   "source": [
    "-------\n",
    "# Retrieve 8k filings from EDGAR that match criteria\n",
    "------"
   ]
  },
  {
   "cell_type": "markdown",
   "metadata": {},
   "source": [
    "## Parameters"
   ]
  },
  {
   "cell_type": "code",
   "execution_count": 5,
   "metadata": {},
   "outputs": [],
   "source": [
    "search_endpoint_post = 'https://efts.sec.gov/LATEST/search-index'\n",
    "\n",
    "search_query = '\"88465\"\"covid\"'\n",
    "\n",
    "post_payload = {\"q\": search_query,\n",
    "                \"dateRange\":\"custom\",\n",
    "                \"category\":\"custom\",\n",
    "                \"startdt\":\"2020-01-01\",\n",
    "                \"enddt\":\"2021-08-06\",\n",
    "                \"forms\":[\"8-K\"],\n",
    "                \"page\":\"1\",\n",
    "                \"from\":0\n",
    "               }"
   ]
  },
  {
   "cell_type": "code",
   "execution_count": 6,
   "metadata": {},
   "outputs": [],
   "source": [
    "res = requests.post(search_endpoint_post, json=post_payload)\n",
    "page_0_json = res.json()"
   ]
  },
  {
   "cell_type": "code",
   "execution_count": 7,
   "metadata": {},
   "outputs": [],
   "source": [
    "total_hits = page_0_json['hits']['total']['value']\n",
    "num_pages = math.ceil(total_hits / 100)"
   ]
  },
  {
   "cell_type": "markdown",
   "metadata": {},
   "source": [
    "## Loop through all pages and collect data"
   ]
  },
  {
   "cell_type": "code",
   "execution_count": 179,
   "metadata": {},
   "outputs": [
    {
     "data": {
      "application/vnd.jupyter.widget-view+json": {
       "model_id": "8ee95f7486c04d609872d738941ee8b5",
       "version_major": 2,
       "version_minor": 0
      },
      "text/plain": [
       "  0%|          | 0/9 [00:00<?, ?it/s]"
      ]
     },
     "metadata": {},
     "output_type": "display_data"
    }
   ],
   "source": [
    "raw_res_list = []\n",
    "for page in tqdm(range(num_pages)):\n",
    "    tmp_payload = {\"q\": search_query,\n",
    "                \"dateRange\":\"custom\",\n",
    "                \"category\":\"custom\",\n",
    "                \"startdt\":\"2020-01-01\",\n",
    "                \"enddt\":\"2021-08-06\",\n",
    "                \"forms\":[\"8-K\"],\n",
    "                \"page\":\"{}\".format(page+1),\n",
    "                \"from\":100*page\n",
    "               }\n",
    "    res = requests.post(search_endpoint_post, json=tmp_payload)\n",
    "    if res.status_code == 200:\n",
    "        page_json = res.json()\n",
    "        raw_res_list.append(page_json)\n",
    "    else:\n",
    "        print(page, 'experienced an issue')\n",
    "    time.sleep(1)"
   ]
  },
  {
   "cell_type": "markdown",
   "metadata": {},
   "source": [
    "## Process data"
   ]
  },
  {
   "cell_type": "code",
   "execution_count": 180,
   "metadata": {},
   "outputs": [],
   "source": [
    "page_res = page_json['hits']['hits']"
   ]
  },
  {
   "cell_type": "code",
   "execution_count": 181,
   "metadata": {},
   "outputs": [],
   "source": [
    "full_res_list = []\n",
    "for page_res in raw_res_list:\n",
    "    for item in page_res['hits']['hits']:\n",
    "        ret_dict = copy.deepcopy(item['_source'])\n",
    "        ret_dict['id'] = item['_id']\n",
    "        full_res_list.append(ret_dict)"
   ]
  },
  {
   "cell_type": "code",
   "execution_count": 200,
   "metadata": {},
   "outputs": [],
   "source": [
    "full_res_df = pd.DataFrame(full_res_list)"
   ]
  },
  {
   "cell_type": "markdown",
   "metadata": {},
   "source": [
    "# Process into dataset"
   ]
  },
  {
   "cell_type": "markdown",
   "metadata": {},
   "source": [
    "## Clean"
   ]
  },
  {
   "cell_type": "markdown",
   "metadata": {},
   "source": [
    "### Count number of items"
   ]
  },
  {
   "cell_type": "code",
   "execution_count": 201,
   "metadata": {},
   "outputs": [],
   "source": [
    "full_res_df['num_items'] = full_res_df['items'].apply(lambda x: len(x))"
   ]
  },
  {
   "cell_type": "markdown",
   "metadata": {},
   "source": [
    "### Remove those with more than 1 cik"
   ]
  },
  {
   "cell_type": "code",
   "execution_count": 202,
   "metadata": {},
   "outputs": [],
   "source": [
    "full_res_df['num_cik'] = full_res_df['ciks'].apply(lambda x: len(x))"
   ]
  },
  {
   "cell_type": "code",
   "execution_count": 203,
   "metadata": {},
   "outputs": [
    {
     "data": {
      "text/plain": [
       "1    840\n",
       "2      3\n",
       "3      1\n",
       "Name: num_cik, dtype: int64"
      ]
     },
     "execution_count": 203,
     "metadata": {},
     "output_type": "execute_result"
    }
   ],
   "source": [
    "full_res_df.num_cik.value_counts()"
   ]
  },
  {
   "cell_type": "code",
   "execution_count": 204,
   "metadata": {},
   "outputs": [],
   "source": [
    "full_res_df = full_res_df[full_res_df.num_cik == 1] "
   ]
  },
  {
   "cell_type": "code",
   "execution_count": 205,
   "metadata": {},
   "outputs": [],
   "source": [
    "full_res_df['cik'] = full_res_df['ciks'].apply(lambda x: x[0])\n"
   ]
  },
  {
   "cell_type": "markdown",
   "metadata": {},
   "source": [
    "### Create single items instead of lists in DF"
   ]
  },
  {
   "cell_type": "markdown",
   "metadata": {},
   "source": [
    "Company name"
   ]
  },
  {
   "cell_type": "code",
   "execution_count": 206,
   "metadata": {
    "scrolled": true
   },
   "outputs": [
    {
     "data": {
      "text/plain": [
       "1    840\n",
       "Name: display_names, dtype: int64"
      ]
     },
     "execution_count": 206,
     "metadata": {},
     "output_type": "execute_result"
    }
   ],
   "source": [
    "full_res_df.display_names.apply(lambda x: len(x)).value_counts()"
   ]
  },
  {
   "cell_type": "code",
   "execution_count": 207,
   "metadata": {},
   "outputs": [],
   "source": [
    "full_res_df['comp_name'] = full_res_df['display_names'].apply(lambda x: x[0])"
   ]
  },
  {
   "cell_type": "markdown",
   "metadata": {},
   "source": [
    "File number"
   ]
  },
  {
   "cell_type": "code",
   "execution_count": 208,
   "metadata": {},
   "outputs": [
    {
     "data": {
      "text/plain": [
       "1    840\n",
       "Name: file_num, dtype: int64"
      ]
     },
     "execution_count": 208,
     "metadata": {},
     "output_type": "execute_result"
    }
   ],
   "source": [
    "full_res_df['file_num'].apply(lambda x: len(x)).value_counts()"
   ]
  },
  {
   "cell_type": "code",
   "execution_count": 209,
   "metadata": {},
   "outputs": [],
   "source": [
    "full_res_df['file_num'] = full_res_df['file_num'].apply(lambda x: x[0])"
   ]
  },
  {
   "cell_type": "markdown",
   "metadata": {},
   "source": [
    "### Clean name"
   ]
  },
  {
   "cell_type": "markdown",
   "metadata": {},
   "source": [
    "Remove CIK from name"
   ]
  },
  {
   "cell_type": "code",
   "execution_count": 218,
   "metadata": {},
   "outputs": [],
   "source": [
    "full_res_df['comp_name'] = full_res_df['comp_name'].apply(lambda string: re.sub(' \\(CIK.*?\\)', '', string))"
   ]
  },
  {
   "cell_type": "markdown",
   "metadata": {},
   "source": [
    "Extract ticker"
   ]
  },
  {
   "cell_type": "code",
   "execution_count": 224,
   "metadata": {},
   "outputs": [],
   "source": [
    "def extract_ticker(string):\n",
    "    hits = re.findall(' \\((.*?)\\)', string)\n",
    "    if hits:\n",
    "        return hits[0]\n",
    "    else:\n",
    "        return np.nan"
   ]
  },
  {
   "cell_type": "code",
   "execution_count": 225,
   "metadata": {},
   "outputs": [],
   "source": [
    "full_res_df['ticker'] = full_res_df['comp_name'].apply(extract_ticker)"
   ]
  },
  {
   "cell_type": "markdown",
   "metadata": {},
   "source": [
    "Remove ticker"
   ]
  },
  {
   "cell_type": "code",
   "execution_count": 227,
   "metadata": {},
   "outputs": [],
   "source": [
    "full_res_df['comp_name'] = full_res_df['comp_name'].apply(lambda string: re.sub(' \\(.*?\\)', '', string))"
   ]
  },
  {
   "cell_type": "markdown",
   "metadata": {},
   "source": [
    "### Convert date"
   ]
  },
  {
   "cell_type": "code",
   "execution_count": 230,
   "metadata": {},
   "outputs": [],
   "source": [
    "date_cols = ['period_ending', 'file_date']\n",
    "for col in date_cols:\n",
    "    full_res_df[col] = pd.to_datetime(full_res_df[col])"
   ]
  },
  {
   "cell_type": "markdown",
   "metadata": {},
   "source": [
    "### Clean items"
   ]
  },
  {
   "cell_type": "code",
   "execution_count": 259,
   "metadata": {
    "scrolled": true
   },
   "outputs": [],
   "source": [
    "full_res_df['items'] = full_res_df['items'].apply(lambda lst: '--'.join(lst))"
   ]
  },
  {
   "cell_type": "markdown",
   "metadata": {},
   "source": [
    "## Select columns to keep"
   ]
  },
  {
   "cell_type": "code",
   "execution_count": 262,
   "metadata": {},
   "outputs": [],
   "source": [
    "cols_to_keep = ['cik', 'ticker', 'file_date', 'comp_name', 'period_ending', 'root_form', \n",
    "               'file_num', 'adsh', 'id', 'num_items', 'items', 'file_description']"
   ]
  },
  {
   "cell_type": "code",
   "execution_count": 263,
   "metadata": {
    "scrolled": true
   },
   "outputs": [
    {
     "data": {
      "text/html": [
       "<div>\n",
       "<style scoped>\n",
       "    .dataframe tbody tr th:only-of-type {\n",
       "        vertical-align: middle;\n",
       "    }\n",
       "\n",
       "    .dataframe tbody tr th {\n",
       "        vertical-align: top;\n",
       "    }\n",
       "\n",
       "    .dataframe thead th {\n",
       "        text-align: right;\n",
       "    }\n",
       "</style>\n",
       "<table border=\"1\" class=\"dataframe\">\n",
       "  <thead>\n",
       "    <tr style=\"text-align: right;\">\n",
       "      <th></th>\n",
       "      <th>cik</th>\n",
       "      <th>ticker</th>\n",
       "      <th>file_date</th>\n",
       "      <th>comp_name</th>\n",
       "      <th>period_ending</th>\n",
       "      <th>root_form</th>\n",
       "      <th>file_num</th>\n",
       "      <th>adsh</th>\n",
       "      <th>id</th>\n",
       "      <th>num_items</th>\n",
       "      <th>items</th>\n",
       "      <th>file_description</th>\n",
       "    </tr>\n",
       "  </thead>\n",
       "  <tbody>\n",
       "    <tr>\n",
       "      <th>0</th>\n",
       "      <td>0001318482</td>\n",
       "      <td>KDOZF</td>\n",
       "      <td>2020-06-01</td>\n",
       "      <td>KIDOZ INC.</td>\n",
       "      <td>2020-03-27</td>\n",
       "      <td>8-K</td>\n",
       "      <td>333-120120-01</td>\n",
       "      <td>0001318482-20-000004</td>\n",
       "      <td>0001318482-20-000004:ki8k0529.htm</td>\n",
       "      <td>1</td>\n",
       "      <td>8.01</td>\n",
       "      <td>KIDOZ INC. FORM 8K/A MAY 29, 2020</td>\n",
       "    </tr>\n",
       "    <tr>\n",
       "      <th>1</th>\n",
       "      <td>0000066600</td>\n",
       "      <td>MMMM</td>\n",
       "      <td>2020-05-21</td>\n",
       "      <td>Quad M Solutions, Inc.</td>\n",
       "      <td>2020-05-15</td>\n",
       "      <td>8-K</td>\n",
       "      <td>001-03319</td>\n",
       "      <td>0001477932-20-002980</td>\n",
       "      <td>0001477932-20-002980:mmmm_8ka.htm</td>\n",
       "      <td>1</td>\n",
       "      <td>8.01</td>\n",
       "      <td>FORM 8-K/A</td>\n",
       "    </tr>\n",
       "    <tr>\n",
       "      <th>2</th>\n",
       "      <td>0001654595</td>\n",
       "      <td>MDRR, MDRRP</td>\n",
       "      <td>2020-04-29</td>\n",
       "      <td>Medalist Diversified REIT, Inc.</td>\n",
       "      <td>2020-04-29</td>\n",
       "      <td>8-K</td>\n",
       "      <td>001-38719</td>\n",
       "      <td>0001104659-20-053371</td>\n",
       "      <td>0001104659-20-053371:tm2018091d1_8k.htm</td>\n",
       "      <td>1</td>\n",
       "      <td>8.01</td>\n",
       "      <td>FORM 8-K</td>\n",
       "    </tr>\n",
       "    <tr>\n",
       "      <th>3</th>\n",
       "      <td>0000066600</td>\n",
       "      <td>MMMM</td>\n",
       "      <td>2020-05-15</td>\n",
       "      <td>Quad M Solutions, Inc.</td>\n",
       "      <td>2020-05-15</td>\n",
       "      <td>8-K</td>\n",
       "      <td>001-03319</td>\n",
       "      <td>0001477932-20-002700</td>\n",
       "      <td>0001477932-20-002700:mmmm_8k.htm</td>\n",
       "      <td>1</td>\n",
       "      <td>8.01</td>\n",
       "      <td>FORM 8-K</td>\n",
       "    </tr>\n",
       "    <tr>\n",
       "      <th>4</th>\n",
       "      <td>0001658880</td>\n",
       "      <td>BRMT</td>\n",
       "      <td>2020-05-21</td>\n",
       "      <td>BARE METAL STANDARD INC.</td>\n",
       "      <td>2020-04-30</td>\n",
       "      <td>8-K</td>\n",
       "      <td>000-55795</td>\n",
       "      <td>0001214659-20-004869</td>\n",
       "      <td>0001214659-20-004869:j5202038k.htm</td>\n",
       "      <td>1</td>\n",
       "      <td>8.01</td>\n",
       "      <td>None</td>\n",
       "    </tr>\n",
       "  </tbody>\n",
       "</table>\n",
       "</div>"
      ],
      "text/plain": [
       "          cik       ticker  file_date                          comp_name  \\\n",
       "0  0001318482        KDOZF 2020-06-01                       KIDOZ INC.     \n",
       "1  0000066600         MMMM 2020-05-21           Quad M Solutions, Inc.     \n",
       "2  0001654595  MDRR, MDRRP 2020-04-29  Medalist Diversified REIT, Inc.     \n",
       "3  0000066600         MMMM 2020-05-15           Quad M Solutions, Inc.     \n",
       "4  0001658880         BRMT 2020-05-21         BARE METAL STANDARD INC.     \n",
       "\n",
       "  period_ending root_form       file_num                  adsh  \\\n",
       "0    2020-03-27       8-K  333-120120-01  0001318482-20-000004   \n",
       "1    2020-05-15       8-K      001-03319  0001477932-20-002980   \n",
       "2    2020-04-29       8-K      001-38719  0001104659-20-053371   \n",
       "3    2020-05-15       8-K      001-03319  0001477932-20-002700   \n",
       "4    2020-04-30       8-K      000-55795  0001214659-20-004869   \n",
       "\n",
       "                                        id  num_items items  \\\n",
       "0        0001318482-20-000004:ki8k0529.htm          1  8.01   \n",
       "1        0001477932-20-002980:mmmm_8ka.htm          1  8.01   \n",
       "2  0001104659-20-053371:tm2018091d1_8k.htm          1  8.01   \n",
       "3         0001477932-20-002700:mmmm_8k.htm          1  8.01   \n",
       "4       0001214659-20-004869:j5202038k.htm          1  8.01   \n",
       "\n",
       "                    file_description  \n",
       "0  KIDOZ INC. FORM 8K/A MAY 29, 2020  \n",
       "1                         FORM 8-K/A  \n",
       "2                           FORM 8-K  \n",
       "3                           FORM 8-K  \n",
       "4                               None  "
      ]
     },
     "execution_count": 263,
     "metadata": {},
     "output_type": "execute_result"
    }
   ],
   "source": [
    "exemption_df = full_res_df[cols_to_keep]\n",
    "exemption_df.head()"
   ]
  },
  {
   "cell_type": "markdown",
   "metadata": {},
   "source": [
    "## Add a clickable link"
   ]
  },
  {
   "cell_type": "code",
   "execution_count": 264,
   "metadata": {},
   "outputs": [],
   "source": [
    "def gen_clickable_link(row):\n",
    "    link = 'https://www.sec.gov/Archives/edgar/data/{}/{}/{}'.format(row['cik'], \n",
    "                                                              row['adsh'].replace('-', ''),\n",
    "                                                              row['id'].split(':')[-1]\n",
    "                                                             )\n",
    "    return link"
   ]
  },
  {
   "cell_type": "code",
   "execution_count": 265,
   "metadata": {},
   "outputs": [],
   "source": [
    "exemption_df['link'] = exemption_df.apply(gen_clickable_link, axis=1)"
   ]
  },
  {
   "cell_type": "code",
   "execution_count": 266,
   "metadata": {},
   "outputs": [
    {
     "name": "stdout",
     "output_type": "stream",
     "text": [
      "https://www.sec.gov/Archives/edgar/data/0001746563/000147793220001591/potn_8k.htm\n"
     ]
    }
   ],
   "source": [
    "print(exemption_df.sample(1).iloc[0]['link'])"
   ]
  },
  {
   "cell_type": "markdown",
   "metadata": {},
   "source": [
    "## Save"
   ]
  },
  {
   "cell_type": "code",
   "execution_count": 270,
   "metadata": {},
   "outputs": [],
   "source": [
    "exemption_df.to_excel(pipeline / 'out' / 'exemptions_8k.xlsx', index=False)"
   ]
  }
 ],
 "metadata": {
  "kernelspec": {
   "display_name": "Python 3 (ipykernel)",
   "language": "python",
   "name": "python3"
  },
  "language_info": {
   "codemirror_mode": {
    "name": "ipython",
    "version": 3
   },
   "file_extension": ".py",
   "mimetype": "text/x-python",
   "name": "python",
   "nbconvert_exporter": "python",
   "pygments_lexer": "ipython3",
   "version": "3.9.6"
  },
  "toc": {
   "colors": {
    "hover_highlight": "#DAA520",
    "running_highlight": "#FF0000",
    "selected_highlight": "#FFD700"
   },
   "moveMenuLeft": true,
   "nav_menu": {
    "height": "138px",
    "width": "252px"
   },
   "navigate_menu": true,
   "number_sections": false,
   "sideBar": true,
   "threshold": 4,
   "toc_cell": false,
   "toc_section_display": "block",
   "toc_window_display": false
  }
 },
 "nbformat": 4,
 "nbformat_minor": 1
}
