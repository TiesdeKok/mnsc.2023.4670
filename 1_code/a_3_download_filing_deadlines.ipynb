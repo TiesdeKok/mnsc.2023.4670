{
 "cells": [
  {
   "cell_type": "markdown",
   "metadata": {},
   "source": [
    "# Preamble"
   ]
  },
  {
   "cell_type": "code",
   "execution_count": 1,
   "metadata": {},
   "outputs": [],
   "source": [
    "%matplotlib notebook"
   ]
  },
  {
   "cell_type": "markdown",
   "metadata": {},
   "source": [
    "## Notebook parameters"
   ]
  },
  {
   "cell_type": "code",
   "execution_count": 2,
   "metadata": {},
   "outputs": [],
   "source": [
    "NAME = 'a_3_download_filing_deadlines'\n",
    "PROJECT = 'covid-empirical'\n",
    "PYTHON_VERSION = '3.9'\n",
    "USER = 'Ties'\n",
    "CONDA_ENVIRONMENT = 'covid-empirical'\n",
    "USE_EXTERNAL_PIPELINE = True"
   ]
  },
  {
   "cell_type": "markdown",
   "metadata": {},
   "source": [
    "## Run preamble script"
   ]
  },
  {
   "cell_type": "code",
   "execution_count": 3,
   "metadata": {},
   "outputs": [
    {
     "name": "stdout",
     "output_type": "stream",
     "text": [
      "----------------------------------------------------------------------------------\n",
      "The following utility functions are loaded and available through `functions.<..>`:\n",
      "----------------------------------------------------------------------------------\n",
      "\n",
      "extract_data_edgar_link, fast_load_json, fast_store_json, flatten_multiindex_column, inDB, recreate_edgar_link\n",
      "\n",
      "----------------------------------------------------------------\n",
      "The following modules and functions are imported by preamble.py:\n",
      "----------------------------------------------------------------\n",
      "\n",
      "copy, delayed, importlib, json, math, np, orjson, os, pd, plt, pqdm_p, pqdm_t, random, re, requests, sys, time, yaml\n"
     ]
    }
   ],
   "source": [
    "%run -i preamble.py "
   ]
  },
  {
   "cell_type": "markdown",
   "metadata": {},
   "source": [
    "## Notebook specific imports"
   ]
  },
  {
   "cell_type": "code",
   "execution_count": 4,
   "metadata": {},
   "outputs": [],
   "source": [
    "from datetime import datetime, date"
   ]
  },
  {
   "cell_type": "markdown",
   "metadata": {},
   "source": [
    "----\n",
    "<span class=\"cSpacer\"></span>\n",
    "# Generate a dataset with all the deadlines"
   ]
  },
  {
   "cell_type": "markdown",
   "metadata": {},
   "source": [
    "## Requests logic"
   ]
  },
  {
   "cell_type": "code",
   "execution_count": 5,
   "metadata": {},
   "outputs": [],
   "source": [
    "endpoint = \"https://www.securexfilings.com/wp-content/plugins/deadlines-functions/ajax.php\""
   ]
  },
  {
   "cell_type": "code",
   "execution_count": 6,
   "metadata": {},
   "outputs": [],
   "source": [
    "def get_deadline(filerType, dateItem, formType, endpoint=endpoint):\n",
    "    payload = {\n",
    "          \"type\" : filerType,\n",
    "          \"day\" : dateItem.day,\n",
    "          \"month\" : dateItem.month,\n",
    "          \"year\" : dateItem.year,\n",
    "          \"calc_nonce_field\":\"7cca7b24fb\", ## Retrieved through chrome devtools after using the website manually\n",
    "          \"form\": formType\n",
    "        }\n",
    "    res = requests.get(endpoint, payload)\n",
    "    res_text = res.text\n",
    "    deadline_date = pd.to_datetime(re.findall('Due:(.*?)<', res_text)[0].strip())\n",
    "    \n",
    "    ft = '10-K' if formType == '10Kresult' else '10-Q'\n",
    "    \n",
    "    ret_dict = {\n",
    "        'filerType' : filerType, \n",
    "        'periodEnd' : dateItem.strftime('%m-%d-%Y'),\n",
    "        'formType' : ft,\n",
    "        'deadline' : deadline_date.strftime('%m-%d-%Y')\n",
    "    }\n",
    "    \n",
    "    return ret_dict"
   ]
  },
  {
   "cell_type": "markdown",
   "metadata": {},
   "source": [
    "## Execute"
   ]
  },
  {
   "cell_type": "code",
   "execution_count": 7,
   "metadata": {},
   "outputs": [],
   "source": [
    "type_list = ['naf', 'af', 'laf']\n",
    "date_list = pd.date_range(start=date(2017, 1, 1),end=date(2021, 12, 31)).to_pydatetime().tolist()\n",
    "form_list = ['10Kresult', '10Qresult']"
   ]
  },
  {
   "cell_type": "code",
   "execution_count": null,
   "metadata": {},
   "outputs": [],
   "source": [
    "ret_list = []\n",
    "issue_list = []\n",
    "for filerType in type_list:\n",
    "    for formType in form_list:\n",
    "        for dateItem in tqdm(date_list):\n",
    "            try:\n",
    "                ret_list.append(get_deadline(filerType, dateItem, formType))\n",
    "            except:\n",
    "                print(filerType, dateItem, formType)\n",
    "                issue_list.append((filerType, dateItem, formType))"
   ]
  },
  {
   "cell_type": "code",
   "execution_count": 63,
   "metadata": {},
   "outputs": [
    {
     "data": {
      "text/html": [
       "<div>\n",
       "<style scoped>\n",
       "    .dataframe tbody tr th:only-of-type {\n",
       "        vertical-align: middle;\n",
       "    }\n",
       "\n",
       "    .dataframe tbody tr th {\n",
       "        vertical-align: top;\n",
       "    }\n",
       "\n",
       "    .dataframe thead th {\n",
       "        text-align: right;\n",
       "    }\n",
       "</style>\n",
       "<table border=\"1\" class=\"dataframe\">\n",
       "  <thead>\n",
       "    <tr style=\"text-align: right;\">\n",
       "      <th></th>\n",
       "      <th>filerType</th>\n",
       "      <th>periodEnd</th>\n",
       "      <th>formType</th>\n",
       "      <th>deadline</th>\n",
       "    </tr>\n",
       "  </thead>\n",
       "  <tbody>\n",
       "    <tr>\n",
       "      <th>0</th>\n",
       "      <td>naf</td>\n",
       "      <td>01-01-2017</td>\n",
       "      <td>10-K</td>\n",
       "      <td>04-03-2017</td>\n",
       "    </tr>\n",
       "    <tr>\n",
       "      <th>1</th>\n",
       "      <td>naf</td>\n",
       "      <td>01-02-2017</td>\n",
       "      <td>10-K</td>\n",
       "      <td>04-03-2017</td>\n",
       "    </tr>\n",
       "    <tr>\n",
       "      <th>2</th>\n",
       "      <td>naf</td>\n",
       "      <td>01-03-2017</td>\n",
       "      <td>10-K</td>\n",
       "      <td>04-03-2017</td>\n",
       "    </tr>\n",
       "    <tr>\n",
       "      <th>3</th>\n",
       "      <td>naf</td>\n",
       "      <td>01-04-2017</td>\n",
       "      <td>10-K</td>\n",
       "      <td>04-04-2017</td>\n",
       "    </tr>\n",
       "    <tr>\n",
       "      <th>4</th>\n",
       "      <td>naf</td>\n",
       "      <td>01-05-2017</td>\n",
       "      <td>10-K</td>\n",
       "      <td>04-05-2017</td>\n",
       "    </tr>\n",
       "    <tr>\n",
       "      <th>...</th>\n",
       "      <td>...</td>\n",
       "      <td>...</td>\n",
       "      <td>...</td>\n",
       "      <td>...</td>\n",
       "    </tr>\n",
       "    <tr>\n",
       "      <th>1996</th>\n",
       "      <td>naf</td>\n",
       "      <td>06-20-2017</td>\n",
       "      <td>10-Q</td>\n",
       "      <td>08-04-2017</td>\n",
       "    </tr>\n",
       "    <tr>\n",
       "      <th>1997</th>\n",
       "      <td>naf</td>\n",
       "      <td>06-21-2017</td>\n",
       "      <td>10-Q</td>\n",
       "      <td>08-07-2017</td>\n",
       "    </tr>\n",
       "    <tr>\n",
       "      <th>1998</th>\n",
       "      <td>naf</td>\n",
       "      <td>06-22-2017</td>\n",
       "      <td>10-Q</td>\n",
       "      <td>08-07-2017</td>\n",
       "    </tr>\n",
       "    <tr>\n",
       "      <th>1999</th>\n",
       "      <td>naf</td>\n",
       "      <td>06-23-2017</td>\n",
       "      <td>10-Q</td>\n",
       "      <td>08-07-2017</td>\n",
       "    </tr>\n",
       "    <tr>\n",
       "      <th>2000</th>\n",
       "      <td>naf</td>\n",
       "      <td>06-24-2017</td>\n",
       "      <td>10-Q</td>\n",
       "      <td>08-08-2017</td>\n",
       "    </tr>\n",
       "  </tbody>\n",
       "</table>\n",
       "<p>2001 rows × 4 columns</p>\n",
       "</div>"
      ],
      "text/plain": [
       "     filerType   periodEnd formType    deadline\n",
       "0          naf  01-01-2017     10-K  04-03-2017\n",
       "1          naf  01-02-2017     10-K  04-03-2017\n",
       "2          naf  01-03-2017     10-K  04-03-2017\n",
       "3          naf  01-04-2017     10-K  04-04-2017\n",
       "4          naf  01-05-2017     10-K  04-05-2017\n",
       "...        ...         ...      ...         ...\n",
       "1996       naf  06-20-2017     10-Q  08-04-2017\n",
       "1997       naf  06-21-2017     10-Q  08-07-2017\n",
       "1998       naf  06-22-2017     10-Q  08-07-2017\n",
       "1999       naf  06-23-2017     10-Q  08-07-2017\n",
       "2000       naf  06-24-2017     10-Q  08-08-2017\n",
       "\n",
       "[2001 rows x 4 columns]"
      ]
     },
     "execution_count": 63,
     "metadata": {},
     "output_type": "execute_result"
    }
   ],
   "source": [
    "pd.DataFrame(ret_list)"
   ]
  },
  {
   "cell_type": "markdown",
   "metadata": {},
   "source": [
    "### Convert to dataframe"
   ]
  },
  {
   "cell_type": "code",
   "execution_count": 69,
   "metadata": {},
   "outputs": [],
   "source": [
    "ret_df = pd.DataFrame(ret_list)"
   ]
  },
  {
   "cell_type": "markdown",
   "metadata": {},
   "source": [
    "## Store as Excel sheet"
   ]
  },
  {
   "cell_type": "code",
   "execution_count": 70,
   "metadata": {},
   "outputs": [],
   "source": [
    "ret_df.to_excel(pipeline / 'out' / 'deadline_df.xlsx')"
   ]
  }
 ],
 "metadata": {
  "kernelspec": {
   "display_name": "Python 3 (ipykernel)",
   "language": "python",
   "name": "python3"
  },
  "language_info": {
   "codemirror_mode": {
    "name": "ipython",
    "version": 3
   },
   "file_extension": ".py",
   "mimetype": "text/x-python",
   "name": "python",
   "nbconvert_exporter": "python",
   "pygments_lexer": "ipython3",
   "version": "3.9.6"
  },
  "toc": {
   "colors": {
    "hover_highlight": "#DAA520",
    "running_highlight": "#FF0000",
    "selected_highlight": "#FFD700"
   },
   "moveMenuLeft": true,
   "nav_menu": {
    "height": "138px",
    "width": "252px"
   },
   "navigate_menu": true,
   "number_sections": false,
   "sideBar": true,
   "threshold": 4,
   "toc_cell": false,
   "toc_section_display": "block",
   "toc_window_display": false
  }
 },
 "nbformat": 4,
 "nbformat_minor": 1
}
