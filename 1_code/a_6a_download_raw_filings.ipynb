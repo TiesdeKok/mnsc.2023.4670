{
 "cells": [
  {
   "cell_type": "markdown",
   "metadata": {},
   "source": [
    "# Preamble"
   ]
  },
  {
   "cell_type": "code",
   "execution_count": 1,
   "metadata": {},
   "outputs": [],
   "source": [
    "%matplotlib notebook"
   ]
  },
  {
   "cell_type": "markdown",
   "metadata": {},
   "source": [
    "## Notebook parameters"
   ]
  },
  {
   "cell_type": "code",
   "execution_count": 2,
   "metadata": {},
   "outputs": [],
   "source": [
    "NAME = 'a_6a_download_raw_filings' \n",
    "PROJECT = 'covid-empirical'\n",
    "PYTHON_VERSION = '3.9'\n",
    "USER = 'Ties'\n",
    "CONDA_ENVIRONMENT = 'covid-empirical'\n",
    "USE_EXTERNAL_PIPELINE = True"
   ]
  },
  {
   "cell_type": "markdown",
   "metadata": {},
   "source": [
    "## Run preamble script"
   ]
  },
  {
   "cell_type": "code",
   "execution_count": 3,
   "metadata": {},
   "outputs": [
    {
     "name": "stdout",
     "output_type": "stream",
     "text": [
      "----------------------------------------------------------------------------------\n",
      "The following utility functions are loaded and available through `functions.<..>`:\n",
      "----------------------------------------------------------------------------------\n",
      "\n",
      "extract_data_edgar_link, fast_load_json, fast_store_json, flatten_multiindex_column, inDB, recreate_edgar_link\n",
      "\n",
      "----------------------------------------------------------------\n",
      "The following modules and functions are imported by preamble.py:\n",
      "----------------------------------------------------------------\n",
      "\n",
      "copy, delayed, importlib, json, math, np, orjson, os, pd, plt, pqdm_p, pqdm_t, random, re, requests, sys, time, yaml\n"
     ]
    }
   ],
   "source": [
    "%run -i preamble.py "
   ]
  },
  {
   "cell_type": "markdown",
   "metadata": {},
   "source": [
    "## Notebook specific imports"
   ]
  },
  {
   "cell_type": "code",
   "execution_count": 4,
   "metadata": {},
   "outputs": [],
   "source": [
    "from bs4 import BeautifulSoup\n",
    "import html\n",
    "import unidecode\n",
    "from zipfile import ZipFile"
   ]
  },
  {
   "cell_type": "markdown",
   "metadata": {},
   "source": [
    "### Set up spacy"
   ]
  },
  {
   "cell_type": "code",
   "execution_count": 5,
   "metadata": {},
   "outputs": [],
   "source": [
    "import spacy"
   ]
  },
  {
   "cell_type": "code",
   "execution_count": 6,
   "metadata": {},
   "outputs": [],
   "source": [
    "nlp = spacy.load('en_core_web_sm', disable = ['tok2vec', 'tagger' ,'parser' ,'attribute_ruler', 'lemmatizer', 'ner'])"
   ]
  },
  {
   "cell_type": "markdown",
   "metadata": {},
   "source": [
    "------\n",
    "# Logic\n",
    "------"
   ]
  },
  {
   "attachments": {
    "image.png": {
     "image/png": "[encoded data removed]"
    }
   },
   "cell_type": "markdown",
   "metadata": {},
   "source": [
    "### Load the submission file for local lookup (takes about 2 minutes to load)\n",
    "\n",
    "The submission file is downloaded from this page:\n",
    "\n",
    "https://www.sec.gov/edgar/sec-api-documentation\n",
    "\n",
    "![image.png](attachment:image.png)"
   ]
  },
  {
   "cell_type": "code",
   "execution_count": 18,
   "metadata": {
    "scrolled": true
   },
   "outputs": [
    {
     "data": {
      "application/vnd.jupyter.widget-view+json": {
       "model_id": "035a56b20d9340038e28ed86d2f66ebc",
       "version_major": 2,
       "version_minor": 0
      },
      "text/plain": [
       "  0%|          | 0/795138 [00:00<?, ?it/s]"
      ]
     },
     "metadata": {},
     "output_type": "display_data"
    }
   ],
   "source": [
    "## After manually downloading the .zip file, identify the path and replace the one below.\n",
    "## A relative path isn't practical here to avoid syncing this large .zip file to our Dropbox folder\n",
    "\n",
    "submission_zipfile = r\"F:\\data_archive\\submissions_03-25-2022.zip\" \n",
    "\n",
    "submission_lookup = {}\n",
    "with ZipFile(submission_zipfile, 'r') as archive:\n",
    "    zip_files = archive.namelist()\n",
    "    for file in tqdm(zip_files):\n",
    "        try:\n",
    "            submission_lookup[file] = orjson.loads(archive.read(file))\n",
    "        except:\n",
    "            pass"
   ]
  },
  {
   "cell_type": "markdown",
   "metadata": {},
   "source": [
    "## Get filings"
   ]
  },
  {
   "cell_type": "code",
   "execution_count": 19,
   "metadata": {},
   "outputs": [],
   "source": [
    "def get_filings(\n",
    "    cik:str, \n",
    "    forms:list = ['10-K', '10-Q'], \n",
    "    cols_to_include:list = ['filingDate', 'reportDate', 'acceptanceDateTime', 'form', 'accessionNumber' , 'primaryDocument', 'size', 'isInlineXBRL'],\n",
    "    parse_dates:bool = True, get_older:bool = True, include_link:bool = True, verbose:int = 0) -> pd.DataFrame:\n",
    "    \n",
    "    res_json  = submission_lookup['CIK{}.json'.format(cik)]\n",
    "    \n",
    "    ## Create a filing dataframe\n",
    "\n",
    "    ### Newer filings\n",
    "\n",
    "    filing_df = pd.DataFrame(res_json['filings']['recent'])\n",
    "\n",
    "    ### Older filings\n",
    "    \n",
    "    if get_older:\n",
    "        for i, json_link in enumerate(res_json['filings']['files']):\n",
    "            res_files_json = submission_lookup[json_link['name']]\n",
    "            older_filing_df = pd.DataFrame(res_files_json)\n",
    "            filing_df = filing_df.append(older_filing_df)\n",
    "        \n",
    "    if verbose > 0:\n",
    "        print('There are {} filings in the dataframe.'.format(len(filing_df.index)))\n",
    "\n",
    "    ### Create a 10k/10q sub dataframe\n",
    "\n",
    "    filing_df = filing_df[filing_df.form.isin(forms)]\n",
    "\n",
    "    ### Create date column\n",
    "    if parse_dates:\n",
    "        filing_df['filingDate'] = pd.to_datetime(filing_df['filingDate'])\n",
    "        filing_df['reportDate'] = pd.to_datetime(filing_df['reportDate'])\n",
    "        \n",
    "    ### Drop columns not needed\n",
    "    filing_df = filing_df[cols_to_include]\n",
    "    \n",
    "    ### Add CIK\n",
    "    filing_df['cik_padded'] = cik\n",
    "    filing_df['cik'] = filing_df['cik_padded'].str.lstrip('0')\n",
    "    \n",
    "    ## Add link\n",
    "    if include_link:\n",
    "        filing_df['link'] = 'https://www.sec.gov/Archives/edgar/data/' + filing_df['cik'] + '/' + filing_df['accessionNumber'].str.replace('-', '') + '/'  + filing_df['primaryDocument']\n",
    "    \n",
    "    return filing_df"
   ]
  },
  {
   "cell_type": "markdown",
   "metadata": {},
   "source": [
    "----------------------\n",
    "# Run"
   ]
  },
  {
   "cell_type": "markdown",
   "metadata": {},
   "source": [
    "### Params"
   ]
  },
  {
   "cell_type": "code",
   "execution_count": 20,
   "metadata": {},
   "outputs": [],
   "source": [
    "attrs_to_keep=['href', 'style', 'id', 'name']\n",
    "remove_tables=True\n",
    "verbose = 1\n",
    "parent_store_loc = ePipeline / 'store'\n",
    "parent_store_loc = parent_store_loc.as_posix()\n",
    "\n",
    "name = input(prompt = \"Your name: \")\n",
    "email = input(prompt = \"Your email: \")\n",
    "organization = input(prompt = \"Your organization: \")\n",
    "ua = f'{name} - {organization} - {email}' ## The SEC requires that you include this information in your user agent string\n",
    "\n",
    "retrn = False \n",
    "cols_to_keep = ['filingDate', 'reportDate', 'acceptanceDateTime', 'form', 'accessionNumber' , 'primaryDocument', 'size', 'isInlineXBRL']"
   ]
  },
  {
   "cell_type": "markdown",
   "metadata": {},
   "source": [
    "## Get CIK list\n",
    "\n",
    "**Note:** downloading the filings will take a long time. The CIK list below is based on the full raw CIK list for all companies listed on EDGAR. Many of these companies do not make it into our final sample. This is not very efficient as a result, however, this is the most replicable way of coding it up.  "
   ]
  },
  {
   "cell_type": "code",
   "execution_count": 80,
   "metadata": {},
   "outputs": [],
   "source": [
    "## See the code in `a_1_generate_filing_dataset` on how this Excel sheet was downloaded from WRDS.\n",
    "wrds_df = pd.read_excel(Path.cwd() / '0_data' / 'external' / 'wrds_all_10qk_filings_07022022.xlsx')\n",
    "wrds_df['cik'] = wrds_df['SEC Central Index Key'].apply(lambda x: str(x).zfill(10))\n",
    "\n",
    "cik_list = list(wrds_df['cik'].unique())"
   ]
  },
  {
   "cell_type": "code",
   "execution_count": 22,
   "metadata": {},
   "outputs": [
    {
     "data": {
      "application/vnd.jupyter.widget-view+json": {
       "model_id": "67d9aa5eb1264c0aaf11776005c649a6",
       "version_major": 2,
       "version_minor": 0
      },
      "text/plain": [
       "  0%|          | 0/4565 [00:00<?, ?it/s]"
      ]
     },
     "metadata": {},
     "output_type": "display_data"
    }
   ],
   "source": [
    "filing_list = []\n",
    "for cik in tqdm(cik_list):\n",
    "    try:\n",
    "        df = get_filings(cik, cols_to_include=cols_to_keep)\n",
    "        df = df[df['reportDate'].dt.year >= 2017]\n",
    "        df.reset_index(drop=True, inplace=True)\n",
    "        df['uniqueID'] = df['link'].apply(lambda link: functions.extract_data_edgar_link(link)['uniqueID'])\n",
    "        filing_list += df.to_dict('records')\n",
    "        #for index, row in df.iterrows():\n",
    "    except Exception as e:\n",
    "        print(f'CIK: {cik} is not valid.')"
   ]
  },
  {
   "cell_type": "code",
   "execution_count": 23,
   "metadata": {},
   "outputs": [],
   "source": [
    "filing_df = pd.DataFrame(filing_list)"
   ]
  },
  {
   "cell_type": "code",
   "execution_count": 28,
   "metadata": {
    "scrolled": true
   },
   "outputs": [
    {
     "data": {
      "text/plain": [
       "4565"
      ]
     },
     "execution_count": 28,
     "metadata": {},
     "output_type": "execute_result"
    }
   ],
   "source": [
    "len(filing_df.cik.unique())"
   ]
  },
  {
   "cell_type": "code",
   "execution_count": 29,
   "metadata": {},
   "outputs": [],
   "source": [
    "assert len(filing_df) == len(filing_df.uniqueID), 'The unique ID is not unique?'"
   ]
  },
  {
   "cell_type": "code",
   "execution_count": 30,
   "metadata": {},
   "outputs": [],
   "source": [
    "filing_df.to_hdf(pipeline / 'out' / 'filing_df.h5', 'filing_df')"
   ]
  },
  {
   "cell_type": "markdown",
   "metadata": {},
   "source": [
    "## Download filings\n",
    "\n",
    "**WARNING:** Downloading all these filings can take up to a few days, will use a lot of bandwidth, and likely over 30gb over storage space. Only run if you need to. "
   ]
  },
  {
   "cell_type": "code",
   "execution_count": 35,
   "metadata": {},
   "outputs": [
    {
     "name": "stdout",
     "output_type": "stream",
     "text": [
      "Number todo: 0, which is 0% left to complete.\n"
     ]
    }
   ],
   "source": [
    "## Identify which filings are already done\n",
    "\n",
    "raw_store_loc = ePipeline / 'out' / 'raw'\n",
    "all_list = filing_df.uniqueID.to_list()\n",
    "done_list = [x.name.replace('.json.gz', '') for x in raw_store_loc.glob('*.json.gz')]\n",
    "todo_list = list(set(all_list).difference(set(done_list)))\n",
    "todo_df = filing_df[filing_df.uniqueID.isin(todo_list)]\n",
    "todo_df = todo_df.sample(len(todo_df.index))\n",
    "print(f'Number todo: {len(todo_list)}, which is {len(todo_list) / len(all_list) * 100:.0f}% left to complete.')"
   ]
  },
  {
   "cell_type": "code",
   "execution_count": 34,
   "metadata": {},
   "outputs": [
    {
     "data": {
      "application/vnd.jupyter.widget-view+json": {
       "model_id": "cc7ae049c9d142f8be71e422c8559f02",
       "version_major": 2,
       "version_minor": 0
      },
      "text/plain": [
       "  0%|          | 0/7910 [00:00<?, ?it/s]"
      ]
     },
     "metadata": {},
     "output_type": "display_data"
    }
   ],
   "source": [
    "## Run\n",
    "\n",
    "fail_list = []\n",
    "for index, row in tqdm(todo_df.iterrows(), total = len(todo_df.index)):\n",
    "    try:\n",
    "        link = row['link']\n",
    "        filing_dict = functions.extract_data_edgar_link(link)\n",
    "        filename = row['uniqueID'] + '.json.gz'\n",
    "        if not (raw_store_loc / filename).exists():\n",
    "            res = requests.get(link, headers = {'User-Agent' : ua})\n",
    "            if res.status_code == 200:\n",
    "                raw_html = res.text\n",
    "                functions.fast_store_json({'raw' : raw_html}, raw_store_loc / filename)\n",
    "                time.sleep(0.1)\n",
    "            else:\n",
    "                raise Exception(status_code)\n",
    "    except Exception as e:\n",
    "        fail_list.append(link)"
   ]
  }
 ],
 "metadata": {
  "kernelspec": {
   "display_name": "Python 3 (ipykernel)",
   "language": "python",
   "name": "python3"
  },
  "language_info": {
   "codemirror_mode": {
    "name": "ipython",
    "version": 3
   },
   "file_extension": ".py",
   "mimetype": "text/x-python",
   "name": "python",
   "nbconvert_exporter": "python",
   "pygments_lexer": "ipython3",
   "version": "3.9.6"
  },
  "toc": {
   "colors": {
    "hover_highlight": "#DAA520",
    "running_highlight": "#FF0000",
    "selected_highlight": "#FFD700"
   },
   "moveMenuLeft": true,
   "nav_menu": {
    "height": "138px",
    "width": "252px"
   },
   "navigate_menu": true,
   "number_sections": false,
   "sideBar": true,
   "threshold": 4,
   "toc_cell": false,
   "toc_section_display": "block",
   "toc_window_display": false
  }
 },
 "nbformat": 4,
 "nbformat_minor": 1
}
